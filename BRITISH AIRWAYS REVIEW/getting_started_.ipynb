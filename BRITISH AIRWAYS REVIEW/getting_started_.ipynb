{
  "cells": [
    {
      "cell_type": "markdown",
      "metadata": {
        "id": "czmUWPXykFLg"
      },
      "source": [
        "# Task 1\n",
        "\n",
        "---\n",
        "\n",
        "## Web scraping and analysis\n",
        "\n",
        "This Jupyter notebook includes some code to get you started with web scraping. We will use a package called `BeautifulSoup` to collect the data from the web. Once you've collected your data and saved it into a local `.csv` file you should start with your analysis.\n",
        "\n",
        "### Scraping data from Skytrax\n",
        "\n",
        "If you visit [https://www.airlinequality.com] you can see that there is a lot of data there. For this task, we are only interested in reviews related to British Airways and the Airline itself.\n",
        "\n",
        "If you navigate to this link: [https://www.airlinequality.com/airline-reviews/british-airways] you will see this data. Now, we can use `Python` and `BeautifulSoup` to collect all the links to the reviews and then to collect the text data on each of the individual review links."
      ]
    },
    {
      "cell_type": "code",
      "source": [
        "import pandas as pd\n",
        "import numpy as np\n",
        "from bs4 import BeautifulSoup\n",
        "import requests\n",
        "import string\n",
        "import seaborn as sns\n",
        "import matplotlib.pyplot as plt\n"
      ],
      "metadata": {
        "id": "ucckAEUBz428"
      },
      "execution_count": null,
      "outputs": []
    },
    {
      "cell_type": "code",
      "source": [
        "#create an empty list to collect all reviews\n",
        "reviews  = []\n",
        "\n",
        "#create an empty list to collect rating stars\n",
        "stars = []\n",
        "\n",
        "#create an empty list to collect date\n",
        "date = []\n",
        "\n",
        "#create an empty list to collect country the reviewer is from\n",
        "country = []"
      ],
      "metadata": {
        "id": "VxMiRgROJZ4q"
      },
      "execution_count": null,
      "outputs": []
    },
    {
      "cell_type": "code",
      "source": [
        "for i in range(1, 36):\n",
        "    page = requests.get(f\"https://www.airlinequality.com/airline-reviews/british-airways/page{i}/?sortby=post_date%3ADesc&pagesize=100\")\n",
        "\n",
        "    soup = BeautifulSoup(page.content, \"html5\")\n",
        "\n",
        "    for item in soup.find_all(\"div\", class_=\"text_content\"):\n",
        "        reviews.append(item.text)\n",
        "\n",
        "    for item in soup.find_all(\"div\", class_ = \"rating-10\"):\n",
        "        try:\n",
        "            stars.append(item.span.text)\n",
        "        except:\n",
        "            print(f\"Error on page {i}\")\n",
        "            stars.append(\"None\")\n",
        "\n",
        "    #date\n",
        "    for item in soup.find_all(\"time\"):\n",
        "        date.append(item.text)\n",
        "\n",
        "    #country\n",
        "    for item in soup.find_all(\"h3\"):\n",
        "        country.append(item.span.next_sibling.text.strip(\" ()\"))"
      ],
      "metadata": {
        "colab": {
          "base_uri": "https://localhost:8080/"
        },
        "id": "DgV6ijMmJbKC",
        "outputId": "f128923f-ee1d-42f1-eaa8-bc995e86e2ca"
      },
      "execution_count": null,
      "outputs": [
        {
          "output_type": "stream",
          "name": "stdout",
          "text": [
            "Error on page 33\n",
            "Error on page 35\n",
            "Error on page 35\n"
          ]
        }
      ]
    },
    {
      "cell_type": "code",
      "source": [
        "len(reviews)"
      ],
      "metadata": {
        "colab": {
          "base_uri": "https://localhost:8080/"
        },
        "id": "PQGWzvTOUm-x",
        "outputId": "3cce07a5-13b8-463c-eabc-d2ad6ddef0be"
      },
      "execution_count": null,
      "outputs": [
        {
          "output_type": "execute_result",
          "data": {
            "text/plain": [
              "3500"
            ]
          },
          "metadata": {},
          "execution_count": 18
        }
      ]
    },
    {
      "cell_type": "code",
      "source": [
        "stars = stars[:3500]"
      ],
      "metadata": {
        "id": "0_J2UtGqUuO6"
      },
      "execution_count": null,
      "outputs": []
    },
    {
      "cell_type": "code",
      "source": [
        "len(country)"
      ],
      "metadata": {
        "colab": {
          "base_uri": "https://localhost:8080/"
        },
        "id": "xJdSLUmnVGl0",
        "outputId": "bf1cbc5f-e167-4384-cb62-13e844a2060f"
      },
      "execution_count": null,
      "outputs": [
        {
          "output_type": "execute_result",
          "data": {
            "text/plain": [
              "3500"
            ]
          },
          "metadata": {},
          "execution_count": 20
        }
      ]
    },
    {
      "source": [
        "#check the length of total reviews extracted\n",
        "print(len(reviews))\n",
        "print(len(stars))\n",
        "print(len(date))\n",
        "print(len(country))\n",
        "\n",
        "# Adjust the length of the lists to be equal\n",
        "min_length = min(len(reviews), len(stars), len(date), len(country))\n",
        "reviews = reviews[:min_length]\n",
        "stars = stars[:min_length]\n",
        "date = date[:min_length]\n",
        "country = country[:min_length]\n",
        "\n",
        "#create  a dataframe from these collected lists of data\n",
        "df = pd.DataFrame({\"reviews\":reviews,\"stars\": stars, \"date\":date, \"country\": country})"
      ],
      "cell_type": "code",
      "metadata": {
        "colab": {
          "base_uri": "https://localhost:8080/"
        },
        "id": "XTD9KtOPqyys",
        "outputId": "aa3a9364-dd68-48f9-a8a4-d0a4be09b7a8"
      },
      "execution_count": null,
      "outputs": [
        {
          "output_type": "stream",
          "name": "stdout",
          "text": [
            "3500\n",
            "3500\n",
            "3500\n",
            "3500\n"
          ]
        }
      ]
    },
    {
      "cell_type": "code",
      "source": [
        "df = pd.DataFrame({\"reviews\":reviews,\"stars\": stars, \"date\":date, \"country\": country})"
      ],
      "metadata": {
        "id": "cJ339x_tJo1c"
      },
      "execution_count": null,
      "outputs": []
    },
    {
      "cell_type": "code",
      "source": [
        "df.head()"
      ],
      "metadata": {
        "colab": {
          "base_uri": "https://localhost:8080/",
          "height": 206
        },
        "id": "_T56Puj3KIiX",
        "outputId": "a4da6382-bd95-446d-b176-e58ae5b9c596"
      },
      "execution_count": null,
      "outputs": [
        {
          "output_type": "execute_result",
          "data": {
            "text/plain": [
              "                                             reviews  \\\n",
              "0  ✅ Trip Verified | As someone who flies relentl...   \n",
              "1  ✅ Trip Verified |   Flew with British Airways ...   \n",
              "2  ✅ Trip Verified |   Straightforward check in T...   \n",
              "3  Not Verified | I am beyond upset and disgusted...   \n",
              "4  ✅ Trip Verified |   I purchased round trip dir...   \n",
              "\n",
              "                         stars                date         country  \n",
              "0  \\n\\t\\t\\t\\t\\t\\t\\t\\t\\t\\t\\t\\t5  2nd September 2024  United Kingdom  \n",
              "1                            4  1st September 2024  United Kingdom  \n",
              "2                            2    30th August 2024  United Kingdom  \n",
              "3                            8    28th August 2024  United Kingdom  \n",
              "4                            1    28th August 2024       Hong Kong  "
            ],
            "text/html": [
              "\n",
              "  <div id=\"df-e299080e-632c-495f-9262-2a106b7bf861\" class=\"colab-df-container\">\n",
              "    <div>\n",
              "<style scoped>\n",
              "    .dataframe tbody tr th:only-of-type {\n",
              "        vertical-align: middle;\n",
              "    }\n",
              "\n",
              "    .dataframe tbody tr th {\n",
              "        vertical-align: top;\n",
              "    }\n",
              "\n",
              "    .dataframe thead th {\n",
              "        text-align: right;\n",
              "    }\n",
              "</style>\n",
              "<table border=\"1\" class=\"dataframe\">\n",
              "  <thead>\n",
              "    <tr style=\"text-align: right;\">\n",
              "      <th></th>\n",
              "      <th>reviews</th>\n",
              "      <th>stars</th>\n",
              "      <th>date</th>\n",
              "      <th>country</th>\n",
              "    </tr>\n",
              "  </thead>\n",
              "  <tbody>\n",
              "    <tr>\n",
              "      <th>0</th>\n",
              "      <td>✅ Trip Verified | As someone who flies relentl...</td>\n",
              "      <td>\\n\\t\\t\\t\\t\\t\\t\\t\\t\\t\\t\\t\\t5</td>\n",
              "      <td>2nd September 2024</td>\n",
              "      <td>United Kingdom</td>\n",
              "    </tr>\n",
              "    <tr>\n",
              "      <th>1</th>\n",
              "      <td>✅ Trip Verified |   Flew with British Airways ...</td>\n",
              "      <td>4</td>\n",
              "      <td>1st September 2024</td>\n",
              "      <td>United Kingdom</td>\n",
              "    </tr>\n",
              "    <tr>\n",
              "      <th>2</th>\n",
              "      <td>✅ Trip Verified |   Straightforward check in T...</td>\n",
              "      <td>2</td>\n",
              "      <td>30th August 2024</td>\n",
              "      <td>United Kingdom</td>\n",
              "    </tr>\n",
              "    <tr>\n",
              "      <th>3</th>\n",
              "      <td>Not Verified | I am beyond upset and disgusted...</td>\n",
              "      <td>8</td>\n",
              "      <td>28th August 2024</td>\n",
              "      <td>United Kingdom</td>\n",
              "    </tr>\n",
              "    <tr>\n",
              "      <th>4</th>\n",
              "      <td>✅ Trip Verified |   I purchased round trip dir...</td>\n",
              "      <td>1</td>\n",
              "      <td>28th August 2024</td>\n",
              "      <td>Hong Kong</td>\n",
              "    </tr>\n",
              "  </tbody>\n",
              "</table>\n",
              "</div>\n",
              "    <div class=\"colab-df-buttons\">\n",
              "\n",
              "  <div class=\"colab-df-container\">\n",
              "    <button class=\"colab-df-convert\" onclick=\"convertToInteractive('df-e299080e-632c-495f-9262-2a106b7bf861')\"\n",
              "            title=\"Convert this dataframe to an interactive table.\"\n",
              "            style=\"display:none;\">\n",
              "\n",
              "  <svg xmlns=\"http://www.w3.org/2000/svg\" height=\"24px\" viewBox=\"0 -960 960 960\">\n",
              "    <path d=\"M120-120v-720h720v720H120Zm60-500h600v-160H180v160Zm220 220h160v-160H400v160Zm0 220h160v-160H400v160ZM180-400h160v-160H180v160Zm440 0h160v-160H620v160ZM180-180h160v-160H180v160Zm440 0h160v-160H620v160Z\"/>\n",
              "  </svg>\n",
              "    </button>\n",
              "\n",
              "  <style>\n",
              "    .colab-df-container {\n",
              "      display:flex;\n",
              "      gap: 12px;\n",
              "    }\n",
              "\n",
              "    .colab-df-convert {\n",
              "      background-color: #E8F0FE;\n",
              "      border: none;\n",
              "      border-radius: 50%;\n",
              "      cursor: pointer;\n",
              "      display: none;\n",
              "      fill: #1967D2;\n",
              "      height: 32px;\n",
              "      padding: 0 0 0 0;\n",
              "      width: 32px;\n",
              "    }\n",
              "\n",
              "    .colab-df-convert:hover {\n",
              "      background-color: #E2EBFA;\n",
              "      box-shadow: 0px 1px 2px rgba(60, 64, 67, 0.3), 0px 1px 3px 1px rgba(60, 64, 67, 0.15);\n",
              "      fill: #174EA6;\n",
              "    }\n",
              "\n",
              "    .colab-df-buttons div {\n",
              "      margin-bottom: 4px;\n",
              "    }\n",
              "\n",
              "    [theme=dark] .colab-df-convert {\n",
              "      background-color: #3B4455;\n",
              "      fill: #D2E3FC;\n",
              "    }\n",
              "\n",
              "    [theme=dark] .colab-df-convert:hover {\n",
              "      background-color: #434B5C;\n",
              "      box-shadow: 0px 1px 3px 1px rgba(0, 0, 0, 0.15);\n",
              "      filter: drop-shadow(0px 1px 2px rgba(0, 0, 0, 0.3));\n",
              "      fill: #FFFFFF;\n",
              "    }\n",
              "  </style>\n",
              "\n",
              "    <script>\n",
              "      const buttonEl =\n",
              "        document.querySelector('#df-e299080e-632c-495f-9262-2a106b7bf861 button.colab-df-convert');\n",
              "      buttonEl.style.display =\n",
              "        google.colab.kernel.accessAllowed ? 'block' : 'none';\n",
              "\n",
              "      async function convertToInteractive(key) {\n",
              "        const element = document.querySelector('#df-e299080e-632c-495f-9262-2a106b7bf861');\n",
              "        const dataTable =\n",
              "          await google.colab.kernel.invokeFunction('convertToInteractive',\n",
              "                                                    [key], {});\n",
              "        if (!dataTable) return;\n",
              "\n",
              "        const docLinkHtml = 'Like what you see? Visit the ' +\n",
              "          '<a target=\"_blank\" href=https://colab.research.google.com/notebooks/data_table.ipynb>data table notebook</a>'\n",
              "          + ' to learn more about interactive tables.';\n",
              "        element.innerHTML = '';\n",
              "        dataTable['output_type'] = 'display_data';\n",
              "        await google.colab.output.renderOutput(dataTable, element);\n",
              "        const docLink = document.createElement('div');\n",
              "        docLink.innerHTML = docLinkHtml;\n",
              "        element.appendChild(docLink);\n",
              "      }\n",
              "    </script>\n",
              "  </div>\n",
              "\n",
              "\n",
              "<div id=\"df-e1614fda-2f62-4e87-acb8-a833c9671e63\">\n",
              "  <button class=\"colab-df-quickchart\" onclick=\"quickchart('df-e1614fda-2f62-4e87-acb8-a833c9671e63')\"\n",
              "            title=\"Suggest charts\"\n",
              "            style=\"display:none;\">\n",
              "\n",
              "<svg xmlns=\"http://www.w3.org/2000/svg\" height=\"24px\"viewBox=\"0 0 24 24\"\n",
              "     width=\"24px\">\n",
              "    <g>\n",
              "        <path d=\"M19 3H5c-1.1 0-2 .9-2 2v14c0 1.1.9 2 2 2h14c1.1 0 2-.9 2-2V5c0-1.1-.9-2-2-2zM9 17H7v-7h2v7zm4 0h-2V7h2v10zm4 0h-2v-4h2v4z\"/>\n",
              "    </g>\n",
              "</svg>\n",
              "  </button>\n",
              "\n",
              "<style>\n",
              "  .colab-df-quickchart {\n",
              "      --bg-color: #E8F0FE;\n",
              "      --fill-color: #1967D2;\n",
              "      --hover-bg-color: #E2EBFA;\n",
              "      --hover-fill-color: #174EA6;\n",
              "      --disabled-fill-color: #AAA;\n",
              "      --disabled-bg-color: #DDD;\n",
              "  }\n",
              "\n",
              "  [theme=dark] .colab-df-quickchart {\n",
              "      --bg-color: #3B4455;\n",
              "      --fill-color: #D2E3FC;\n",
              "      --hover-bg-color: #434B5C;\n",
              "      --hover-fill-color: #FFFFFF;\n",
              "      --disabled-bg-color: #3B4455;\n",
              "      --disabled-fill-color: #666;\n",
              "  }\n",
              "\n",
              "  .colab-df-quickchart {\n",
              "    background-color: var(--bg-color);\n",
              "    border: none;\n",
              "    border-radius: 50%;\n",
              "    cursor: pointer;\n",
              "    display: none;\n",
              "    fill: var(--fill-color);\n",
              "    height: 32px;\n",
              "    padding: 0;\n",
              "    width: 32px;\n",
              "  }\n",
              "\n",
              "  .colab-df-quickchart:hover {\n",
              "    background-color: var(--hover-bg-color);\n",
              "    box-shadow: 0 1px 2px rgba(60, 64, 67, 0.3), 0 1px 3px 1px rgba(60, 64, 67, 0.15);\n",
              "    fill: var(--button-hover-fill-color);\n",
              "  }\n",
              "\n",
              "  .colab-df-quickchart-complete:disabled,\n",
              "  .colab-df-quickchart-complete:disabled:hover {\n",
              "    background-color: var(--disabled-bg-color);\n",
              "    fill: var(--disabled-fill-color);\n",
              "    box-shadow: none;\n",
              "  }\n",
              "\n",
              "  .colab-df-spinner {\n",
              "    border: 2px solid var(--fill-color);\n",
              "    border-color: transparent;\n",
              "    border-bottom-color: var(--fill-color);\n",
              "    animation:\n",
              "      spin 1s steps(1) infinite;\n",
              "  }\n",
              "\n",
              "  @keyframes spin {\n",
              "    0% {\n",
              "      border-color: transparent;\n",
              "      border-bottom-color: var(--fill-color);\n",
              "      border-left-color: var(--fill-color);\n",
              "    }\n",
              "    20% {\n",
              "      border-color: transparent;\n",
              "      border-left-color: var(--fill-color);\n",
              "      border-top-color: var(--fill-color);\n",
              "    }\n",
              "    30% {\n",
              "      border-color: transparent;\n",
              "      border-left-color: var(--fill-color);\n",
              "      border-top-color: var(--fill-color);\n",
              "      border-right-color: var(--fill-color);\n",
              "    }\n",
              "    40% {\n",
              "      border-color: transparent;\n",
              "      border-right-color: var(--fill-color);\n",
              "      border-top-color: var(--fill-color);\n",
              "    }\n",
              "    60% {\n",
              "      border-color: transparent;\n",
              "      border-right-color: var(--fill-color);\n",
              "    }\n",
              "    80% {\n",
              "      border-color: transparent;\n",
              "      border-right-color: var(--fill-color);\n",
              "      border-bottom-color: var(--fill-color);\n",
              "    }\n",
              "    90% {\n",
              "      border-color: transparent;\n",
              "      border-bottom-color: var(--fill-color);\n",
              "    }\n",
              "  }\n",
              "</style>\n",
              "\n",
              "  <script>\n",
              "    async function quickchart(key) {\n",
              "      const quickchartButtonEl =\n",
              "        document.querySelector('#' + key + ' button');\n",
              "      quickchartButtonEl.disabled = true;  // To prevent multiple clicks.\n",
              "      quickchartButtonEl.classList.add('colab-df-spinner');\n",
              "      try {\n",
              "        const charts = await google.colab.kernel.invokeFunction(\n",
              "            'suggestCharts', [key], {});\n",
              "      } catch (error) {\n",
              "        console.error('Error during call to suggestCharts:', error);\n",
              "      }\n",
              "      quickchartButtonEl.classList.remove('colab-df-spinner');\n",
              "      quickchartButtonEl.classList.add('colab-df-quickchart-complete');\n",
              "    }\n",
              "    (() => {\n",
              "      let quickchartButtonEl =\n",
              "        document.querySelector('#df-e1614fda-2f62-4e87-acb8-a833c9671e63 button');\n",
              "      quickchartButtonEl.style.display =\n",
              "        google.colab.kernel.accessAllowed ? 'block' : 'none';\n",
              "    })();\n",
              "  </script>\n",
              "</div>\n",
              "\n",
              "    </div>\n",
              "  </div>\n"
            ],
            "application/vnd.google.colaboratory.intrinsic+json": {
              "type": "dataframe",
              "variable_name": "df",
              "summary": "{\n  \"name\": \"df\",\n  \"rows\": 3500,\n  \"fields\": [\n    {\n      \"column\": \"reviews\",\n      \"properties\": {\n        \"dtype\": \"string\",\n        \"num_unique_values\": 3494,\n        \"samples\": [\n          \"\\u274e Unverified |  London Heathrow - Pisa return. I fly this route often as I have a house in Tuscany. I fly British Airways Club Europe only because the FAs are better, the lounge is a welcome benefit - and if you book far ahead enough - you can get a reasonable deal plus Avious points. That aside there is little benefits to flying say Ryanair. The trip started at T5 and the Northern lounge was not, for a change, to busy. Had a fruit and coffee breakfast. The options were a group of highly unhealthy looking bacon baps - dripping fat all over the place. Some years ago - BA provided some nice scrambled eggs. Now they don't. Flight left from the \\\"A\\\" terminal and we boarded \\\"downstairs\\\" from the lounge. The plane was half full. It was clean and valeted. We pushed back 10 minutes early. My wife had a sort of brunch thing, cheese and ham + rolls. She said it was ok. I had a couple of Gin and Tonics. The FA said she had never seen such an empty flight - and neither had I for that matter. The now chargeable food and beverages in Economy went down like a lead balloon apparently. I read the BA \\\"Brochure\\\" on the now chargeable food and as a Sales and Marketing professional - It was the most patronising piece of rubbish I'd ever read. It read as if BA were providing the most amazing product to the benefit of all. And goodness me - the products are not cheap - over a \\u00a31 for a kit kat. We landed ahead of time and has to walk the tarmac like Ryanair customers. Several years ago you had the air-bridge. Now you don't. The return flight started in the shared lounge which was rammed. This in part is due to Qatar airlines operating out of Pisa and their Business Class customers use the same facility. Some booze and snacks - nothing edible. Flight delayed by 30 minutes. Plane was rammed. Very pleasant FAs. Afternoon tea - with horrible dried out sandwiches + scones that didn't look like scones. On both flights - the usual three seats with the centre seat being a table. No legroom. Hopelessly inadequate product which can be as high as \\u00a3600 return. Docked at the \\\"B\\\" terminal and had to walk miles to the trains - that took us back to T5/Terminal \\\"A\\\". All in all - another disappointing experience from the \\\"World's most frugal Airline\\\".\",\n          \"LIS-LHR-VIE on Dec. 8 both legs on an Airbus 320 in Club Europe (Business Class) - both legs on time seats were Economy seats with the middle seat left unsold and featuring the new slim seats which are less comfortable and have a reduced seat pitch \\u2013 Check-in in LIS was handled by rather surly agents which was untypical for an otherwise friendly airport but Business class waiting lines were very short so overall it was OK. LIS-LHR leg was with a rather lacklustre and inattentive European fleet crew after the initial service of food and drinks further service consisted of clearing the dishes and on board sales. Other than that Business class flight attendants were behind the curtain reading magazines chatting and rather attending to themselves than the passengers. At 11 am the Business Class food served was a plate cold cuts a roll and three thin slices of fruit (basically a make yourself sandwich on a plate). Extremely disappointing and poor for a lunch flight scheduled to arrive in Heathrow after 1 pm. On the LHR-VIE leg service was\\u201cafternoon tea\\u201dmeaning again sandwiches. However this time at least it was more appropriate due to time of day. Full bar service on both flights and the French white wine served was ok. The mixed fleet crew on the second leg was more interested in its job and up to BA standards regarding friendliness and attentiveness. Transfer procedures in LHR Terminal 3 were fast and friendly even the extra security checks required for all transfers at LHR (even Intra-EU) were hassle free and easy. BA\\u2019s Galleries Lounge in LHR T3 was again an oasis of rest amid a busy airport; comfortable with excellent drink selection and decent food selection including several good warm choices such as various curries. In Lisbon Portela BA uses the shared Blue Lounge which is small and offerings are rather limited; some limited snacks ok drinks but at least good Nespresso coffee. Although small it was not crowded which is a plus. So BA delivered a good basic product for economy standards but I fail to see any real Business Class service offered here (not seat wise not meal wise not service wise). The only saving grace was the Galleries Lounge in Heathrow T3 and the better service on the LHR-VIE leg. Not recommended for Business Class within Europe based on this experience. (Oneworld Sapphire).\",\n          \"Phoenix to London Heathrow, and this was our third time flying First Class on British Airways, and after flying this time, we are disappointed.  The BA lounge in Phoenix is disgusting. We could handle it only for about 5 minutes. From the staff, the seats, the space, the food, nothing was orderly, clean, and it all seemed run-down. Walking around the airport aimlessly was a much better option. The boarding process was a joke. Again, the staff seemed confused, clueless, they called for everyone (all statuses, memberships, traveling with children, etc...all at once. It seemed nearly half of the plane was lined up to get in during premier boarding. There were 3 cabin staff for first class, two out of the three were not at all cordial. No greeting, they seemed to be running around the entire time even when the first class cabin was not full. They were not well groomed or spoke politely - came across unprofessional. This ruined the experience of flying first class. The meal experience was horrible. I ordered an appetizer, salad, and an main course. My husband ordered the 2 appetizers, and a main course. They came back to tell us they were out of one of the appetizers he ordered. First time this has ever happened in first class! They brought my appetizer, which we had to share, and they completely forgot about my salad. They brought the main (chicken dish), which was cold and dry. I had to send it back and changed to a steak. The steak came after about 20 minutes. Roughly 1/4 of the steak was hot, the remainder was cold (not even warm). The taste was amazing but ruined the dining experience completely. Upon waking up I opted to not have breakfast but have biscuits. The menu had \\\"assortment of biscuits\\\" and a few other bistro type items. When I ordered coffee and biscuits, the flight attendant looked concerned and said \\\"let me see if I can find some biscuits for you\\\". She came back with a bag of popcorn, a browny, and a few vanilla wafers. Typical items served on a domestic US based airline. My husband ordered coffee as well and asked for half and half. She failed to understand half and half and finally said \\\"oh you mean half and half in British accent. How is it possible to be a flight attendant and you cannot understand an American accent for half and half. Normally this would not even be an issue but having experienced all of the above this just seemed like the icing on the cake. Toilets were small, cramped, and dirty with no typical First Class amenities available within the toilets. Our next leg was within EU to Munich on another BA flight where the service on a 737 surpassed their international First Class! Seat is comfortable but that's about it!\"\n        ],\n        \"semantic_type\": \"\",\n        \"description\": \"\"\n      }\n    },\n    {\n      \"column\": \"stars\",\n      \"properties\": {\n        \"dtype\": \"category\",\n        \"num_unique_values\": 12,\n        \"samples\": [\n          \"7\",\n          \"6\",\n          \"\\n\\t\\t\\t\\t\\t\\t\\t\\t\\t\\t\\t\\t5\"\n        ],\n        \"semantic_type\": \"\",\n        \"description\": \"\"\n      }\n    },\n    {\n      \"column\": \"date\",\n      \"properties\": {\n        \"dtype\": \"string\",\n        \"num_unique_values\": 1857,\n        \"samples\": [\n          \"16th April 2023\",\n          \"2nd December 2021\",\n          \"19th May 2017\"\n        ],\n        \"semantic_type\": \"\",\n        \"description\": \"\"\n      }\n    },\n    {\n      \"column\": \"country\",\n      \"properties\": {\n        \"dtype\": \"category\",\n        \"num_unique_values\": 72,\n        \"samples\": [\n          \"Italy\",\n          \"Egypt\",\n          \"Ireland\"\n        ],\n        \"semantic_type\": \"\",\n        \"description\": \"\"\n      }\n    }\n  ]\n}"
            }
          },
          "metadata": {},
          "execution_count": 11
        }
      ]
    },
    {
      "cell_type": "code",
      "source": [
        "df.shape"
      ],
      "metadata": {
        "colab": {
          "base_uri": "https://localhost:8080/"
        },
        "id": "f29PcV7TvLEZ",
        "outputId": "175879de-77ae-4975-e814-aef92d8adb0a"
      },
      "execution_count": null,
      "outputs": [
        {
          "output_type": "execute_result",
          "data": {
            "text/plain": [
              "(3500, 4)"
            ]
          },
          "metadata": {},
          "execution_count": 23
        }
      ]
    },
    {
      "cell_type": "markdown",
      "metadata": {
        "id": "fc219e55-fdc8-4b10-a3e9-8dda764ee275"
      },
      "source": [
        "### Export the data into a csv format"
      ]
    },
    {
      "cell_type": "code",
      "execution_count": null,
      "metadata": {
        "id": "b286e642-59a2-4da3-9120-e9db119ebea6"
      },
      "outputs": [],
      "source": [
        "import os\n",
        "\n",
        "cwd = os.getcwd()\n",
        "df.to_csv(cwd+ \"/BA_reviews.csv\")"
      ]
    }
  ],
  "metadata": {
    "kernelspec": {
      "display_name": "Python 3 (ipykernel)",
      "language": "python",
      "name": "python3"
    },
    "language_info": {
      "codemirror_mode": {
        "name": "ipython",
        "version": 3
      },
      "file_extension": ".py",
      "mimetype": "text/x-python",
      "name": "python",
      "nbconvert_exporter": "python",
      "pygments_lexer": "ipython3",
      "version": "3.12.4"
    },
    "vscode": {
      "interpreter": {
        "hash": "4f7924c4c56b083e0e50eadfe7ef592a7a8ef70df33a0047f82280e6be1afe15"
      }
    },
    "colab": {
      "provenance": []
    }
  },
  "nbformat": 4,
  "nbformat_minor": 0
}