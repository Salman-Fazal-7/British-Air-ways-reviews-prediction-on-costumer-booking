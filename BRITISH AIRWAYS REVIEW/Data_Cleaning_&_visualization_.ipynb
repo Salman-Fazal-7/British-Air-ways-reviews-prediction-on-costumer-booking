{
  "cells": [
    {
      "cell_type": "markdown",
      "id": "e00b5383-b915-4a16-8ed0-476f979052b7",
      "metadata": {
        "id": "e00b5383-b915-4a16-8ed0-476f979052b7"
      },
      "source": [
        "## Data Cleaning\n",
        "\n",
        "Now since we have extracted data from the website, it is not cleaned and ready to be analyzed yet. The reviews section will need to be cleaned for punctuations, spellings and other characters."
      ]
    },
    {
      "cell_type": "code",
      "execution_count": null,
      "id": "69c14a0d-d637-4b7e-8714-31fb531b4954",
      "metadata": {
        "id": "69c14a0d-d637-4b7e-8714-31fb531b4954"
      },
      "outputs": [],
      "source": [
        "#imports libraries\n",
        "\n",
        "import pandas as pd\n",
        "import matplotlib.pyplot as plt\n",
        "import seaborn as sns\n",
        "import os\n",
        "\n",
        "#regex\n",
        "import re"
      ]
    },
    {
      "cell_type": "code",
      "execution_count": null,
      "id": "c46b06dc-b9f5-4b9f-b52b-7f9b01ff7200",
      "metadata": {
        "id": "c46b06dc-b9f5-4b9f-b52b-7f9b01ff7200"
      },
      "outputs": [],
      "source": [
        "#create a dataframe from csv file\n",
        "\n",
        "cwd = os.getcwd()\n",
        "\n",
        "df = pd.read_csv(cwd+\"/BA_reviews.csv\", index_col=0)"
      ]
    },
    {
      "cell_type": "code",
      "execution_count": null,
      "id": "888d1113-bafd-4e6c-a020-c0e7b721ce50",
      "metadata": {
        "colab": {
          "base_uri": "https://localhost:8080/",
          "height": 206
        },
        "id": "888d1113-bafd-4e6c-a020-c0e7b721ce50",
        "outputId": "74787cff-3054-430d-a925-a3fcdd2b5b95"
      },
      "outputs": [
        {
          "output_type": "execute_result",
          "data": {
            "text/plain": [
              "                                             reviews  stars  \\\n",
              "0  ✅ Trip Verified | As someone who flies relentl...    5.0   \n",
              "1  ✅ Trip Verified |   Flew with British Airways ...    4.0   \n",
              "2  ✅ Trip Verified |   Straightforward check in T...    2.0   \n",
              "3  Not Verified | I am beyond upset and disgusted...    8.0   \n",
              "4  ✅ Trip Verified |   I purchased round trip dir...    1.0   \n",
              "\n",
              "                 date         country  \n",
              "0  2nd September 2024  United Kingdom  \n",
              "1  1st September 2024  United Kingdom  \n",
              "2    30th August 2024  United Kingdom  \n",
              "3    28th August 2024  United Kingdom  \n",
              "4    28th August 2024       Hong Kong  "
            ],
            "text/html": [
              "\n",
              "  <div id=\"df-4cb70bbc-69c7-44a9-823a-bb3ec229a63c\" class=\"colab-df-container\">\n",
              "    <div>\n",
              "<style scoped>\n",
              "    .dataframe tbody tr th:only-of-type {\n",
              "        vertical-align: middle;\n",
              "    }\n",
              "\n",
              "    .dataframe tbody tr th {\n",
              "        vertical-align: top;\n",
              "    }\n",
              "\n",
              "    .dataframe thead th {\n",
              "        text-align: right;\n",
              "    }\n",
              "</style>\n",
              "<table border=\"1\" class=\"dataframe\">\n",
              "  <thead>\n",
              "    <tr style=\"text-align: right;\">\n",
              "      <th></th>\n",
              "      <th>reviews</th>\n",
              "      <th>stars</th>\n",
              "      <th>date</th>\n",
              "      <th>country</th>\n",
              "    </tr>\n",
              "  </thead>\n",
              "  <tbody>\n",
              "    <tr>\n",
              "      <th>0</th>\n",
              "      <td>✅ Trip Verified | As someone who flies relentl...</td>\n",
              "      <td>5.0</td>\n",
              "      <td>2nd September 2024</td>\n",
              "      <td>United Kingdom</td>\n",
              "    </tr>\n",
              "    <tr>\n",
              "      <th>1</th>\n",
              "      <td>✅ Trip Verified |   Flew with British Airways ...</td>\n",
              "      <td>4.0</td>\n",
              "      <td>1st September 2024</td>\n",
              "      <td>United Kingdom</td>\n",
              "    </tr>\n",
              "    <tr>\n",
              "      <th>2</th>\n",
              "      <td>✅ Trip Verified |   Straightforward check in T...</td>\n",
              "      <td>2.0</td>\n",
              "      <td>30th August 2024</td>\n",
              "      <td>United Kingdom</td>\n",
              "    </tr>\n",
              "    <tr>\n",
              "      <th>3</th>\n",
              "      <td>Not Verified | I am beyond upset and disgusted...</td>\n",
              "      <td>8.0</td>\n",
              "      <td>28th August 2024</td>\n",
              "      <td>United Kingdom</td>\n",
              "    </tr>\n",
              "    <tr>\n",
              "      <th>4</th>\n",
              "      <td>✅ Trip Verified |   I purchased round trip dir...</td>\n",
              "      <td>1.0</td>\n",
              "      <td>28th August 2024</td>\n",
              "      <td>Hong Kong</td>\n",
              "    </tr>\n",
              "  </tbody>\n",
              "</table>\n",
              "</div>\n",
              "    <div class=\"colab-df-buttons\">\n",
              "\n",
              "  <div class=\"colab-df-container\">\n",
              "    <button class=\"colab-df-convert\" onclick=\"convertToInteractive('df-4cb70bbc-69c7-44a9-823a-bb3ec229a63c')\"\n",
              "            title=\"Convert this dataframe to an interactive table.\"\n",
              "            style=\"display:none;\">\n",
              "\n",
              "  <svg xmlns=\"http://www.w3.org/2000/svg\" height=\"24px\" viewBox=\"0 -960 960 960\">\n",
              "    <path d=\"M120-120v-720h720v720H120Zm60-500h600v-160H180v160Zm220 220h160v-160H400v160Zm0 220h160v-160H400v160ZM180-400h160v-160H180v160Zm440 0h160v-160H620v160ZM180-180h160v-160H180v160Zm440 0h160v-160H620v160Z\"/>\n",
              "  </svg>\n",
              "    </button>\n",
              "\n",
              "  <style>\n",
              "    .colab-df-container {\n",
              "      display:flex;\n",
              "      gap: 12px;\n",
              "    }\n",
              "\n",
              "    .colab-df-convert {\n",
              "      background-color: #E8F0FE;\n",
              "      border: none;\n",
              "      border-radius: 50%;\n",
              "      cursor: pointer;\n",
              "      display: none;\n",
              "      fill: #1967D2;\n",
              "      height: 32px;\n",
              "      padding: 0 0 0 0;\n",
              "      width: 32px;\n",
              "    }\n",
              "\n",
              "    .colab-df-convert:hover {\n",
              "      background-color: #E2EBFA;\n",
              "      box-shadow: 0px 1px 2px rgba(60, 64, 67, 0.3), 0px 1px 3px 1px rgba(60, 64, 67, 0.15);\n",
              "      fill: #174EA6;\n",
              "    }\n",
              "\n",
              "    .colab-df-buttons div {\n",
              "      margin-bottom: 4px;\n",
              "    }\n",
              "\n",
              "    [theme=dark] .colab-df-convert {\n",
              "      background-color: #3B4455;\n",
              "      fill: #D2E3FC;\n",
              "    }\n",
              "\n",
              "    [theme=dark] .colab-df-convert:hover {\n",
              "      background-color: #434B5C;\n",
              "      box-shadow: 0px 1px 3px 1px rgba(0, 0, 0, 0.15);\n",
              "      filter: drop-shadow(0px 1px 2px rgba(0, 0, 0, 0.3));\n",
              "      fill: #FFFFFF;\n",
              "    }\n",
              "  </style>\n",
              "\n",
              "    <script>\n",
              "      const buttonEl =\n",
              "        document.querySelector('#df-4cb70bbc-69c7-44a9-823a-bb3ec229a63c button.colab-df-convert');\n",
              "      buttonEl.style.display =\n",
              "        google.colab.kernel.accessAllowed ? 'block' : 'none';\n",
              "\n",
              "      async function convertToInteractive(key) {\n",
              "        const element = document.querySelector('#df-4cb70bbc-69c7-44a9-823a-bb3ec229a63c');\n",
              "        const dataTable =\n",
              "          await google.colab.kernel.invokeFunction('convertToInteractive',\n",
              "                                                    [key], {});\n",
              "        if (!dataTable) return;\n",
              "\n",
              "        const docLinkHtml = 'Like what you see? Visit the ' +\n",
              "          '<a target=\"_blank\" href=https://colab.research.google.com/notebooks/data_table.ipynb>data table notebook</a>'\n",
              "          + ' to learn more about interactive tables.';\n",
              "        element.innerHTML = '';\n",
              "        dataTable['output_type'] = 'display_data';\n",
              "        await google.colab.output.renderOutput(dataTable, element);\n",
              "        const docLink = document.createElement('div');\n",
              "        docLink.innerHTML = docLinkHtml;\n",
              "        element.appendChild(docLink);\n",
              "      }\n",
              "    </script>\n",
              "  </div>\n",
              "\n",
              "\n",
              "<div id=\"df-3a179d1a-ba26-406b-a884-52a6e49789f7\">\n",
              "  <button class=\"colab-df-quickchart\" onclick=\"quickchart('df-3a179d1a-ba26-406b-a884-52a6e49789f7')\"\n",
              "            title=\"Suggest charts\"\n",
              "            style=\"display:none;\">\n",
              "\n",
              "<svg xmlns=\"http://www.w3.org/2000/svg\" height=\"24px\"viewBox=\"0 0 24 24\"\n",
              "     width=\"24px\">\n",
              "    <g>\n",
              "        <path d=\"M19 3H5c-1.1 0-2 .9-2 2v14c0 1.1.9 2 2 2h14c1.1 0 2-.9 2-2V5c0-1.1-.9-2-2-2zM9 17H7v-7h2v7zm4 0h-2V7h2v10zm4 0h-2v-4h2v4z\"/>\n",
              "    </g>\n",
              "</svg>\n",
              "  </button>\n",
              "\n",
              "<style>\n",
              "  .colab-df-quickchart {\n",
              "      --bg-color: #E8F0FE;\n",
              "      --fill-color: #1967D2;\n",
              "      --hover-bg-color: #E2EBFA;\n",
              "      --hover-fill-color: #174EA6;\n",
              "      --disabled-fill-color: #AAA;\n",
              "      --disabled-bg-color: #DDD;\n",
              "  }\n",
              "\n",
              "  [theme=dark] .colab-df-quickchart {\n",
              "      --bg-color: #3B4455;\n",
              "      --fill-color: #D2E3FC;\n",
              "      --hover-bg-color: #434B5C;\n",
              "      --hover-fill-color: #FFFFFF;\n",
              "      --disabled-bg-color: #3B4455;\n",
              "      --disabled-fill-color: #666;\n",
              "  }\n",
              "\n",
              "  .colab-df-quickchart {\n",
              "    background-color: var(--bg-color);\n",
              "    border: none;\n",
              "    border-radius: 50%;\n",
              "    cursor: pointer;\n",
              "    display: none;\n",
              "    fill: var(--fill-color);\n",
              "    height: 32px;\n",
              "    padding: 0;\n",
              "    width: 32px;\n",
              "  }\n",
              "\n",
              "  .colab-df-quickchart:hover {\n",
              "    background-color: var(--hover-bg-color);\n",
              "    box-shadow: 0 1px 2px rgba(60, 64, 67, 0.3), 0 1px 3px 1px rgba(60, 64, 67, 0.15);\n",
              "    fill: var(--button-hover-fill-color);\n",
              "  }\n",
              "\n",
              "  .colab-df-quickchart-complete:disabled,\n",
              "  .colab-df-quickchart-complete:disabled:hover {\n",
              "    background-color: var(--disabled-bg-color);\n",
              "    fill: var(--disabled-fill-color);\n",
              "    box-shadow: none;\n",
              "  }\n",
              "\n",
              "  .colab-df-spinner {\n",
              "    border: 2px solid var(--fill-color);\n",
              "    border-color: transparent;\n",
              "    border-bottom-color: var(--fill-color);\n",
              "    animation:\n",
              "      spin 1s steps(1) infinite;\n",
              "  }\n",
              "\n",
              "  @keyframes spin {\n",
              "    0% {\n",
              "      border-color: transparent;\n",
              "      border-bottom-color: var(--fill-color);\n",
              "      border-left-color: var(--fill-color);\n",
              "    }\n",
              "    20% {\n",
              "      border-color: transparent;\n",
              "      border-left-color: var(--fill-color);\n",
              "      border-top-color: var(--fill-color);\n",
              "    }\n",
              "    30% {\n",
              "      border-color: transparent;\n",
              "      border-left-color: var(--fill-color);\n",
              "      border-top-color: var(--fill-color);\n",
              "      border-right-color: var(--fill-color);\n",
              "    }\n",
              "    40% {\n",
              "      border-color: transparent;\n",
              "      border-right-color: var(--fill-color);\n",
              "      border-top-color: var(--fill-color);\n",
              "    }\n",
              "    60% {\n",
              "      border-color: transparent;\n",
              "      border-right-color: var(--fill-color);\n",
              "    }\n",
              "    80% {\n",
              "      border-color: transparent;\n",
              "      border-right-color: var(--fill-color);\n",
              "      border-bottom-color: var(--fill-color);\n",
              "    }\n",
              "    90% {\n",
              "      border-color: transparent;\n",
              "      border-bottom-color: var(--fill-color);\n",
              "    }\n",
              "  }\n",
              "</style>\n",
              "\n",
              "  <script>\n",
              "    async function quickchart(key) {\n",
              "      const quickchartButtonEl =\n",
              "        document.querySelector('#' + key + ' button');\n",
              "      quickchartButtonEl.disabled = true;  // To prevent multiple clicks.\n",
              "      quickchartButtonEl.classList.add('colab-df-spinner');\n",
              "      try {\n",
              "        const charts = await google.colab.kernel.invokeFunction(\n",
              "            'suggestCharts', [key], {});\n",
              "      } catch (error) {\n",
              "        console.error('Error during call to suggestCharts:', error);\n",
              "      }\n",
              "      quickchartButtonEl.classList.remove('colab-df-spinner');\n",
              "      quickchartButtonEl.classList.add('colab-df-quickchart-complete');\n",
              "    }\n",
              "    (() => {\n",
              "      let quickchartButtonEl =\n",
              "        document.querySelector('#df-3a179d1a-ba26-406b-a884-52a6e49789f7 button');\n",
              "      quickchartButtonEl.style.display =\n",
              "        google.colab.kernel.accessAllowed ? 'block' : 'none';\n",
              "    })();\n",
              "  </script>\n",
              "</div>\n",
              "\n",
              "    </div>\n",
              "  </div>\n"
            ],
            "application/vnd.google.colaboratory.intrinsic+json": {
              "type": "dataframe",
              "variable_name": "df",
              "summary": "{\n  \"name\": \"df\",\n  \"rows\": 3500,\n  \"fields\": [\n    {\n      \"column\": \"reviews\",\n      \"properties\": {\n        \"dtype\": \"string\",\n        \"num_unique_values\": 3492,\n        \"samples\": [\n          \"\\u2705 Trip Verified |  The worst experience in all my years of travel. Bag was destroyed, flight delayed 3 hours and couldn't get water on board. Then when attempting to claim on their website the entire site failed on a dropdown menu that wouldn't work. You can't contact them. Plane was filthy and someone else's belongings and left over food was still in our seat.\",\n          \"\\u2705 Trip Verified |  I have always had great flights with British Airways but this time the experience was absolutely amazing! As this was my 100th flight, I decided to celebrate it in Club Europe, which turned out to be a perfect decision. The stewards working in Club made me feel special and delivered a professional and personalised service and were kind and chatty. Although the cabin crew was the best part of the flight, other features didn\\u2019t let me down either. Efficient business class check in at Warsaw, cosy executive lounge Preludium with attentive and helpful staff, well organised boarding (although no priority for Club Europe because of Corona). The aircraft was very fresh and clean. Seats were comfortable with enough legroom, adjustable headrests and power ports. The on board service is different than before Corona times but it\\u2019s still very good. Tasty lunch box from DO&CO with fresh chicken sandwich, oriental vegetable salad and and amazing chocolate mousse. The choice of drinks was wide, including a very good quality Champagne from Nicolas Feuillatte. All in all a perfect flight experience with British Airways. Everything I expected from this flight was fulfilled. The one thing I can complain about is baggage handling at Heathrow. We waited around 50 mins for luggage and they were also delivered irrespecutful of Club Europe priority.\",\n          \"\\u2705 Trip Verified |  The seating configuration meant that we were packed in like sardines. The seats are aging and uncomfortable. The forward-backward configuration is the most stupid I have seen. The cabin had 8 seats to a row and about 100 people packed into a crowded and noisy cabin. To book a specific seat you have to pay extra or try your luck 24 hours ahead of the flight. \"\n        ],\n        \"semantic_type\": \"\",\n        \"description\": \"\"\n      }\n    },\n    {\n      \"column\": \"stars\",\n      \"properties\": {\n        \"dtype\": \"number\",\n        \"std\": 3.144866277595009,\n        \"min\": 1.0,\n        \"max\": 10.0,\n        \"num_unique_values\": 10,\n        \"samples\": [\n          6.0,\n          4.0,\n          9.0\n        ],\n        \"semantic_type\": \"\",\n        \"description\": \"\"\n      }\n    },\n    {\n      \"column\": \"date\",\n      \"properties\": {\n        \"dtype\": \"string\",\n        \"num_unique_values\": 1857,\n        \"samples\": [\n          \"16th April 2023\",\n          \"2nd December 2021\",\n          \"19th May 2017\"\n        ],\n        \"semantic_type\": \"\",\n        \"description\": \"\"\n      }\n    },\n    {\n      \"column\": \"country\",\n      \"properties\": {\n        \"dtype\": \"category\",\n        \"num_unique_values\": 70,\n        \"samples\": [\n          \"Switzerland\",\n          \"United Kingdom\",\n          \"Saint Kitts and Nevis\"\n        ],\n        \"semantic_type\": \"\",\n        \"description\": \"\"\n      }\n    }\n  ]\n}"
            }
          },
          "metadata": {},
          "execution_count": 19
        }
      ],
      "source": [
        "df.head()"
      ]
    },
    {
      "cell_type": "markdown",
      "id": "7aeb0b06-23f8-48bb-b2d4-b91455040038",
      "metadata": {
        "id": "7aeb0b06-23f8-48bb-b2d4-b91455040038"
      },
      "source": [
        "We will also create a column which mentions if the user is verified or not."
      ]
    },
    {
      "cell_type": "code",
      "execution_count": null,
      "id": "45908798-e042-4d71-8e01-395f53f2005d",
      "metadata": {
        "id": "45908798-e042-4d71-8e01-395f53f2005d"
      },
      "outputs": [],
      "source": [
        "df['verified'] = df.reviews.str.contains(\"Trip Verified\")"
      ]
    },
    {
      "cell_type": "code",
      "execution_count": null,
      "id": "ae4e6e23-4ecc-4c94-8526-5f645ff2f6a2",
      "metadata": {
        "colab": {
          "base_uri": "https://localhost:8080/",
          "height": 458
        },
        "id": "ae4e6e23-4ecc-4c94-8526-5f645ff2f6a2",
        "outputId": "d7944e14-5ce2-4d72-b3c5-ec4b0249dd38"
      },
      "outputs": [
        {
          "output_type": "execute_result",
          "data": {
            "text/plain": [
              "0        True\n",
              "1        True\n",
              "2        True\n",
              "3       False\n",
              "4        True\n",
              "        ...  \n",
              "3495    False\n",
              "3496    False\n",
              "3497    False\n",
              "3498    False\n",
              "3499    False\n",
              "Name: verified, Length: 3500, dtype: bool"
            ],
            "text/html": [
              "<div>\n",
              "<style scoped>\n",
              "    .dataframe tbody tr th:only-of-type {\n",
              "        vertical-align: middle;\n",
              "    }\n",
              "\n",
              "    .dataframe tbody tr th {\n",
              "        vertical-align: top;\n",
              "    }\n",
              "\n",
              "    .dataframe thead th {\n",
              "        text-align: right;\n",
              "    }\n",
              "</style>\n",
              "<table border=\"1\" class=\"dataframe\">\n",
              "  <thead>\n",
              "    <tr style=\"text-align: right;\">\n",
              "      <th></th>\n",
              "      <th>verified</th>\n",
              "    </tr>\n",
              "  </thead>\n",
              "  <tbody>\n",
              "    <tr>\n",
              "      <th>0</th>\n",
              "      <td>True</td>\n",
              "    </tr>\n",
              "    <tr>\n",
              "      <th>1</th>\n",
              "      <td>True</td>\n",
              "    </tr>\n",
              "    <tr>\n",
              "      <th>2</th>\n",
              "      <td>True</td>\n",
              "    </tr>\n",
              "    <tr>\n",
              "      <th>3</th>\n",
              "      <td>False</td>\n",
              "    </tr>\n",
              "    <tr>\n",
              "      <th>4</th>\n",
              "      <td>True</td>\n",
              "    </tr>\n",
              "    <tr>\n",
              "      <th>...</th>\n",
              "      <td>...</td>\n",
              "    </tr>\n",
              "    <tr>\n",
              "      <th>3495</th>\n",
              "      <td>False</td>\n",
              "    </tr>\n",
              "    <tr>\n",
              "      <th>3496</th>\n",
              "      <td>False</td>\n",
              "    </tr>\n",
              "    <tr>\n",
              "      <th>3497</th>\n",
              "      <td>False</td>\n",
              "    </tr>\n",
              "    <tr>\n",
              "      <th>3498</th>\n",
              "      <td>False</td>\n",
              "    </tr>\n",
              "    <tr>\n",
              "      <th>3499</th>\n",
              "      <td>False</td>\n",
              "    </tr>\n",
              "  </tbody>\n",
              "</table>\n",
              "<p>3500 rows × 1 columns</p>\n",
              "</div><br><label><b>dtype:</b> bool</label>"
            ]
          },
          "metadata": {},
          "execution_count": 5
        }
      ],
      "source": [
        "df['verified']"
      ]
    },
    {
      "cell_type": "markdown",
      "id": "cf266fe0-0c33-477a-9f1e-529a214e91c5",
      "metadata": {
        "id": "cf266fe0-0c33-477a-9f1e-529a214e91c5"
      },
      "source": [
        "### Cleaning Reviews"
      ]
    },
    {
      "cell_type": "markdown",
      "id": "ac2bc6a6-8783-4873-b5e7-1719f997cdf2",
      "metadata": {
        "id": "ac2bc6a6-8783-4873-b5e7-1719f997cdf2"
      },
      "source": [
        "We will extract the column of reviews into a separate dataframe and clean it for semantic analysis"
      ]
    },
    {
      "source": [
        "#for lemmatization of words we will use nltk library\n",
        "from nltk.stem import WordNetLemmatizer\n",
        "from nltk.corpus import stopwords\n",
        "import nltk # import nltk\n",
        "import re\n",
        "\n",
        "nltk.download('stopwords') # download stopwords\n",
        "nltk.download('wordnet') # download wordnet\n",
        "\n",
        "lemma = WordNetLemmatizer()\n",
        "\n",
        "\n",
        "reviews_data = df.reviews.str.strip(\"✅ Trip Verified |\")\n",
        "\n",
        "#create an empty list to collect cleaned data corpus\n",
        "corpus =[]\n",
        "\n",
        "#loop through each review, remove punctuations, small case it, join it and add it to corpus\n",
        "for rev in reviews_data:\n",
        "    rev = re.sub('[^a-zA-Z]',' ', rev)\n",
        "    rev = rev.lower()\n",
        "    rev = rev.split()\n",
        "    rev = [lemma.lemmatize(word) for word in rev if word not in set(stopwords.words(\"english\"))]\n",
        "    rev = \" \".join(rev)\n",
        "    corpus.append(rev)"
      ],
      "cell_type": "code",
      "metadata": {
        "colab": {
          "base_uri": "https://localhost:8080/"
        },
        "id": "C2juzRa6cSB4",
        "outputId": "6329f679-5b2e-4216-df39-736f76899b15"
      },
      "id": "C2juzRa6cSB4",
      "execution_count": null,
      "outputs": [
        {
          "output_type": "stream",
          "name": "stderr",
          "text": [
            "[nltk_data] Downloading package stopwords to /root/nltk_data...\n",
            "[nltk_data]   Package stopwords is already up-to-date!\n",
            "[nltk_data] Downloading package wordnet to /root/nltk_data...\n",
            "[nltk_data]   Package wordnet is already up-to-date!\n"
          ]
        }
      ]
    },
    {
      "cell_type": "code",
      "execution_count": null,
      "id": "835b9930-20e0-4d79-8a88-a5737309b4ce",
      "metadata": {
        "id": "835b9930-20e0-4d79-8a88-a5737309b4ce"
      },
      "outputs": [],
      "source": [
        "# add the corpus to the original dataframe\n",
        "\n",
        "df['corpus'] = corpus"
      ]
    },
    {
      "cell_type": "code",
      "execution_count": null,
      "id": "baa16beb-4ac5-4850-a46a-0ae11d64cf3d",
      "metadata": {
        "colab": {
          "base_uri": "https://localhost:8080/",
          "height": 293
        },
        "id": "baa16beb-4ac5-4850-a46a-0ae11d64cf3d",
        "outputId": "3410b287-0b70-4b31-f6a9-421895a35ad6"
      },
      "outputs": [
        {
          "output_type": "execute_result",
          "data": {
            "text/plain": [
              "                                             reviews  stars  \\\n",
              "0  ✅ Trip Verified | As someone who flies relentl...    5.0   \n",
              "1  ✅ Trip Verified |   Flew with British Airways ...    4.0   \n",
              "2  ✅ Trip Verified |   Straightforward check in T...    2.0   \n",
              "3  Not Verified | I am beyond upset and disgusted...    8.0   \n",
              "4  ✅ Trip Verified |   I purchased round trip dir...    1.0   \n",
              "\n",
              "                 date         country  verified  \\\n",
              "0  2nd September 2024  United Kingdom      True   \n",
              "1  1st September 2024  United Kingdom      True   \n",
              "2    30th August 2024  United Kingdom      True   \n",
              "3    28th August 2024  United Kingdom     False   \n",
              "4    28th August 2024       Hong Kong      True   \n",
              "\n",
              "                                              corpus  \n",
              "0  someone fly relentlessly british airway busine...  \n",
              "1  flew british airway club europe saturday st au...  \n",
              "2  straightforward check new site club check work...  \n",
              "3  verified beyond upset disgusted disregard lack...  \n",
              "4  purchased round trip direct flight business cl...  "
            ],
            "text/html": [
              "\n",
              "  <div id=\"df-c9404e9c-4de9-46de-8051-ed615ca02e62\" class=\"colab-df-container\">\n",
              "    <div>\n",
              "<style scoped>\n",
              "    .dataframe tbody tr th:only-of-type {\n",
              "        vertical-align: middle;\n",
              "    }\n",
              "\n",
              "    .dataframe tbody tr th {\n",
              "        vertical-align: top;\n",
              "    }\n",
              "\n",
              "    .dataframe thead th {\n",
              "        text-align: right;\n",
              "    }\n",
              "</style>\n",
              "<table border=\"1\" class=\"dataframe\">\n",
              "  <thead>\n",
              "    <tr style=\"text-align: right;\">\n",
              "      <th></th>\n",
              "      <th>reviews</th>\n",
              "      <th>stars</th>\n",
              "      <th>date</th>\n",
              "      <th>country</th>\n",
              "      <th>verified</th>\n",
              "      <th>corpus</th>\n",
              "    </tr>\n",
              "  </thead>\n",
              "  <tbody>\n",
              "    <tr>\n",
              "      <th>0</th>\n",
              "      <td>✅ Trip Verified | As someone who flies relentl...</td>\n",
              "      <td>5.0</td>\n",
              "      <td>2nd September 2024</td>\n",
              "      <td>United Kingdom</td>\n",
              "      <td>True</td>\n",
              "      <td>someone fly relentlessly british airway busine...</td>\n",
              "    </tr>\n",
              "    <tr>\n",
              "      <th>1</th>\n",
              "      <td>✅ Trip Verified |   Flew with British Airways ...</td>\n",
              "      <td>4.0</td>\n",
              "      <td>1st September 2024</td>\n",
              "      <td>United Kingdom</td>\n",
              "      <td>True</td>\n",
              "      <td>flew british airway club europe saturday st au...</td>\n",
              "    </tr>\n",
              "    <tr>\n",
              "      <th>2</th>\n",
              "      <td>✅ Trip Verified |   Straightforward check in T...</td>\n",
              "      <td>2.0</td>\n",
              "      <td>30th August 2024</td>\n",
              "      <td>United Kingdom</td>\n",
              "      <td>True</td>\n",
              "      <td>straightforward check new site club check work...</td>\n",
              "    </tr>\n",
              "    <tr>\n",
              "      <th>3</th>\n",
              "      <td>Not Verified | I am beyond upset and disgusted...</td>\n",
              "      <td>8.0</td>\n",
              "      <td>28th August 2024</td>\n",
              "      <td>United Kingdom</td>\n",
              "      <td>False</td>\n",
              "      <td>verified beyond upset disgusted disregard lack...</td>\n",
              "    </tr>\n",
              "    <tr>\n",
              "      <th>4</th>\n",
              "      <td>✅ Trip Verified |   I purchased round trip dir...</td>\n",
              "      <td>1.0</td>\n",
              "      <td>28th August 2024</td>\n",
              "      <td>Hong Kong</td>\n",
              "      <td>True</td>\n",
              "      <td>purchased round trip direct flight business cl...</td>\n",
              "    </tr>\n",
              "  </tbody>\n",
              "</table>\n",
              "</div>\n",
              "    <div class=\"colab-df-buttons\">\n",
              "\n",
              "  <div class=\"colab-df-container\">\n",
              "    <button class=\"colab-df-convert\" onclick=\"convertToInteractive('df-c9404e9c-4de9-46de-8051-ed615ca02e62')\"\n",
              "            title=\"Convert this dataframe to an interactive table.\"\n",
              "            style=\"display:none;\">\n",
              "\n",
              "  <svg xmlns=\"http://www.w3.org/2000/svg\" height=\"24px\" viewBox=\"0 -960 960 960\">\n",
              "    <path d=\"M120-120v-720h720v720H120Zm60-500h600v-160H180v160Zm220 220h160v-160H400v160Zm0 220h160v-160H400v160ZM180-400h160v-160H180v160Zm440 0h160v-160H620v160ZM180-180h160v-160H180v160Zm440 0h160v-160H620v160Z\"/>\n",
              "  </svg>\n",
              "    </button>\n",
              "\n",
              "  <style>\n",
              "    .colab-df-container {\n",
              "      display:flex;\n",
              "      gap: 12px;\n",
              "    }\n",
              "\n",
              "    .colab-df-convert {\n",
              "      background-color: #E8F0FE;\n",
              "      border: none;\n",
              "      border-radius: 50%;\n",
              "      cursor: pointer;\n",
              "      display: none;\n",
              "      fill: #1967D2;\n",
              "      height: 32px;\n",
              "      padding: 0 0 0 0;\n",
              "      width: 32px;\n",
              "    }\n",
              "\n",
              "    .colab-df-convert:hover {\n",
              "      background-color: #E2EBFA;\n",
              "      box-shadow: 0px 1px 2px rgba(60, 64, 67, 0.3), 0px 1px 3px 1px rgba(60, 64, 67, 0.15);\n",
              "      fill: #174EA6;\n",
              "    }\n",
              "\n",
              "    .colab-df-buttons div {\n",
              "      margin-bottom: 4px;\n",
              "    }\n",
              "\n",
              "    [theme=dark] .colab-df-convert {\n",
              "      background-color: #3B4455;\n",
              "      fill: #D2E3FC;\n",
              "    }\n",
              "\n",
              "    [theme=dark] .colab-df-convert:hover {\n",
              "      background-color: #434B5C;\n",
              "      box-shadow: 0px 1px 3px 1px rgba(0, 0, 0, 0.15);\n",
              "      filter: drop-shadow(0px 1px 2px rgba(0, 0, 0, 0.3));\n",
              "      fill: #FFFFFF;\n",
              "    }\n",
              "  </style>\n",
              "\n",
              "    <script>\n",
              "      const buttonEl =\n",
              "        document.querySelector('#df-c9404e9c-4de9-46de-8051-ed615ca02e62 button.colab-df-convert');\n",
              "      buttonEl.style.display =\n",
              "        google.colab.kernel.accessAllowed ? 'block' : 'none';\n",
              "\n",
              "      async function convertToInteractive(key) {\n",
              "        const element = document.querySelector('#df-c9404e9c-4de9-46de-8051-ed615ca02e62');\n",
              "        const dataTable =\n",
              "          await google.colab.kernel.invokeFunction('convertToInteractive',\n",
              "                                                    [key], {});\n",
              "        if (!dataTable) return;\n",
              "\n",
              "        const docLinkHtml = 'Like what you see? Visit the ' +\n",
              "          '<a target=\"_blank\" href=https://colab.research.google.com/notebooks/data_table.ipynb>data table notebook</a>'\n",
              "          + ' to learn more about interactive tables.';\n",
              "        element.innerHTML = '';\n",
              "        dataTable['output_type'] = 'display_data';\n",
              "        await google.colab.output.renderOutput(dataTable, element);\n",
              "        const docLink = document.createElement('div');\n",
              "        docLink.innerHTML = docLinkHtml;\n",
              "        element.appendChild(docLink);\n",
              "      }\n",
              "    </script>\n",
              "  </div>\n",
              "\n",
              "\n",
              "<div id=\"df-ab4008ab-baba-4c40-8d27-d4b9c373b02e\">\n",
              "  <button class=\"colab-df-quickchart\" onclick=\"quickchart('df-ab4008ab-baba-4c40-8d27-d4b9c373b02e')\"\n",
              "            title=\"Suggest charts\"\n",
              "            style=\"display:none;\">\n",
              "\n",
              "<svg xmlns=\"http://www.w3.org/2000/svg\" height=\"24px\"viewBox=\"0 0 24 24\"\n",
              "     width=\"24px\">\n",
              "    <g>\n",
              "        <path d=\"M19 3H5c-1.1 0-2 .9-2 2v14c0 1.1.9 2 2 2h14c1.1 0 2-.9 2-2V5c0-1.1-.9-2-2-2zM9 17H7v-7h2v7zm4 0h-2V7h2v10zm4 0h-2v-4h2v4z\"/>\n",
              "    </g>\n",
              "</svg>\n",
              "  </button>\n",
              "\n",
              "<style>\n",
              "  .colab-df-quickchart {\n",
              "      --bg-color: #E8F0FE;\n",
              "      --fill-color: #1967D2;\n",
              "      --hover-bg-color: #E2EBFA;\n",
              "      --hover-fill-color: #174EA6;\n",
              "      --disabled-fill-color: #AAA;\n",
              "      --disabled-bg-color: #DDD;\n",
              "  }\n",
              "\n",
              "  [theme=dark] .colab-df-quickchart {\n",
              "      --bg-color: #3B4455;\n",
              "      --fill-color: #D2E3FC;\n",
              "      --hover-bg-color: #434B5C;\n",
              "      --hover-fill-color: #FFFFFF;\n",
              "      --disabled-bg-color: #3B4455;\n",
              "      --disabled-fill-color: #666;\n",
              "  }\n",
              "\n",
              "  .colab-df-quickchart {\n",
              "    background-color: var(--bg-color);\n",
              "    border: none;\n",
              "    border-radius: 50%;\n",
              "    cursor: pointer;\n",
              "    display: none;\n",
              "    fill: var(--fill-color);\n",
              "    height: 32px;\n",
              "    padding: 0;\n",
              "    width: 32px;\n",
              "  }\n",
              "\n",
              "  .colab-df-quickchart:hover {\n",
              "    background-color: var(--hover-bg-color);\n",
              "    box-shadow: 0 1px 2px rgba(60, 64, 67, 0.3), 0 1px 3px 1px rgba(60, 64, 67, 0.15);\n",
              "    fill: var(--button-hover-fill-color);\n",
              "  }\n",
              "\n",
              "  .colab-df-quickchart-complete:disabled,\n",
              "  .colab-df-quickchart-complete:disabled:hover {\n",
              "    background-color: var(--disabled-bg-color);\n",
              "    fill: var(--disabled-fill-color);\n",
              "    box-shadow: none;\n",
              "  }\n",
              "\n",
              "  .colab-df-spinner {\n",
              "    border: 2px solid var(--fill-color);\n",
              "    border-color: transparent;\n",
              "    border-bottom-color: var(--fill-color);\n",
              "    animation:\n",
              "      spin 1s steps(1) infinite;\n",
              "  }\n",
              "\n",
              "  @keyframes spin {\n",
              "    0% {\n",
              "      border-color: transparent;\n",
              "      border-bottom-color: var(--fill-color);\n",
              "      border-left-color: var(--fill-color);\n",
              "    }\n",
              "    20% {\n",
              "      border-color: transparent;\n",
              "      border-left-color: var(--fill-color);\n",
              "      border-top-color: var(--fill-color);\n",
              "    }\n",
              "    30% {\n",
              "      border-color: transparent;\n",
              "      border-left-color: var(--fill-color);\n",
              "      border-top-color: var(--fill-color);\n",
              "      border-right-color: var(--fill-color);\n",
              "    }\n",
              "    40% {\n",
              "      border-color: transparent;\n",
              "      border-right-color: var(--fill-color);\n",
              "      border-top-color: var(--fill-color);\n",
              "    }\n",
              "    60% {\n",
              "      border-color: transparent;\n",
              "      border-right-color: var(--fill-color);\n",
              "    }\n",
              "    80% {\n",
              "      border-color: transparent;\n",
              "      border-right-color: var(--fill-color);\n",
              "      border-bottom-color: var(--fill-color);\n",
              "    }\n",
              "    90% {\n",
              "      border-color: transparent;\n",
              "      border-bottom-color: var(--fill-color);\n",
              "    }\n",
              "  }\n",
              "</style>\n",
              "\n",
              "  <script>\n",
              "    async function quickchart(key) {\n",
              "      const quickchartButtonEl =\n",
              "        document.querySelector('#' + key + ' button');\n",
              "      quickchartButtonEl.disabled = true;  // To prevent multiple clicks.\n",
              "      quickchartButtonEl.classList.add('colab-df-spinner');\n",
              "      try {\n",
              "        const charts = await google.colab.kernel.invokeFunction(\n",
              "            'suggestCharts', [key], {});\n",
              "      } catch (error) {\n",
              "        console.error('Error during call to suggestCharts:', error);\n",
              "      }\n",
              "      quickchartButtonEl.classList.remove('colab-df-spinner');\n",
              "      quickchartButtonEl.classList.add('colab-df-quickchart-complete');\n",
              "    }\n",
              "    (() => {\n",
              "      let quickchartButtonEl =\n",
              "        document.querySelector('#df-ab4008ab-baba-4c40-8d27-d4b9c373b02e button');\n",
              "      quickchartButtonEl.style.display =\n",
              "        google.colab.kernel.accessAllowed ? 'block' : 'none';\n",
              "    })();\n",
              "  </script>\n",
              "</div>\n",
              "\n",
              "    </div>\n",
              "  </div>\n"
            ],
            "application/vnd.google.colaboratory.intrinsic+json": {
              "type": "dataframe",
              "variable_name": "df",
              "summary": "{\n  \"name\": \"df\",\n  \"rows\": 3500,\n  \"fields\": [\n    {\n      \"column\": \"reviews\",\n      \"properties\": {\n        \"dtype\": \"string\",\n        \"num_unique_values\": 3492,\n        \"samples\": [\n          \"\\u2705 Trip Verified |  The worst experience in all my years of travel. Bag was destroyed, flight delayed 3 hours and couldn't get water on board. Then when attempting to claim on their website the entire site failed on a dropdown menu that wouldn't work. You can't contact them. Plane was filthy and someone else's belongings and left over food was still in our seat.\",\n          \"\\u2705 Trip Verified |  I have always had great flights with British Airways but this time the experience was absolutely amazing! As this was my 100th flight, I decided to celebrate it in Club Europe, which turned out to be a perfect decision. The stewards working in Club made me feel special and delivered a professional and personalised service and were kind and chatty. Although the cabin crew was the best part of the flight, other features didn\\u2019t let me down either. Efficient business class check in at Warsaw, cosy executive lounge Preludium with attentive and helpful staff, well organised boarding (although no priority for Club Europe because of Corona). The aircraft was very fresh and clean. Seats were comfortable with enough legroom, adjustable headrests and power ports. The on board service is different than before Corona times but it\\u2019s still very good. Tasty lunch box from DO&CO with fresh chicken sandwich, oriental vegetable salad and and amazing chocolate mousse. The choice of drinks was wide, including a very good quality Champagne from Nicolas Feuillatte. All in all a perfect flight experience with British Airways. Everything I expected from this flight was fulfilled. The one thing I can complain about is baggage handling at Heathrow. We waited around 50 mins for luggage and they were also delivered irrespecutful of Club Europe priority.\",\n          \"\\u2705 Trip Verified |  The seating configuration meant that we were packed in like sardines. The seats are aging and uncomfortable. The forward-backward configuration is the most stupid I have seen. The cabin had 8 seats to a row and about 100 people packed into a crowded and noisy cabin. To book a specific seat you have to pay extra or try your luck 24 hours ahead of the flight. \"\n        ],\n        \"semantic_type\": \"\",\n        \"description\": \"\"\n      }\n    },\n    {\n      \"column\": \"stars\",\n      \"properties\": {\n        \"dtype\": \"number\",\n        \"std\": 3.144866277595009,\n        \"min\": 1.0,\n        \"max\": 10.0,\n        \"num_unique_values\": 10,\n        \"samples\": [\n          6.0,\n          4.0,\n          9.0\n        ],\n        \"semantic_type\": \"\",\n        \"description\": \"\"\n      }\n    },\n    {\n      \"column\": \"date\",\n      \"properties\": {\n        \"dtype\": \"string\",\n        \"num_unique_values\": 1857,\n        \"samples\": [\n          \"16th April 2023\",\n          \"2nd December 2021\",\n          \"19th May 2017\"\n        ],\n        \"semantic_type\": \"\",\n        \"description\": \"\"\n      }\n    },\n    {\n      \"column\": \"country\",\n      \"properties\": {\n        \"dtype\": \"category\",\n        \"num_unique_values\": 70,\n        \"samples\": [\n          \"Switzerland\",\n          \"United Kingdom\",\n          \"Saint Kitts and Nevis\"\n        ],\n        \"semantic_type\": \"\",\n        \"description\": \"\"\n      }\n    },\n    {\n      \"column\": \"verified\",\n      \"properties\": {\n        \"dtype\": \"boolean\",\n        \"num_unique_values\": 2,\n        \"samples\": [\n          false,\n          true\n        ],\n        \"semantic_type\": \"\",\n        \"description\": \"\"\n      }\n    },\n    {\n      \"column\": \"corpus\",\n      \"properties\": {\n        \"dtype\": \"string\",\n        \"num_unique_values\": 3492,\n        \"samples\": [\n          \"worst experience year travel bag destroyed flight delayed hour get water board attempting claim website entire site failed dropdown menu work contact plane filthy someone else belonging left food still seat\",\n          \"always great flight british airway time experience absolutely amazing th flight decided celebrate club europe turned perfect decision steward working club made feel special delivered professional personalised service kind chatty although cabin crew best part flight feature let either efficient business class check warsaw cosy executive lounge preludium attentive helpful staff well organised boarding although priority club europe corona aircraft fresh clean seat comfortable enough legroom adjustable headrest power port board service different corona time still good tasty lunch box co fresh chicken sandwich oriental vegetable salad amazing chocolate mousse choice drink wide including good quality champagne nicolas feuillatte perfect flight experience british airway everything expected flight fulfilled one thing complain baggage handling heathrow waited around min luggage also delivered irrespecutful club europe priority\"\n        ],\n        \"semantic_type\": \"\",\n        \"description\": \"\"\n      }\n    }\n  ]\n}"
            }
          },
          "metadata": {},
          "execution_count": 23
        }
      ],
      "source": [
        "df.head()"
      ]
    },
    {
      "cell_type": "markdown",
      "id": "63424d81-bab2-4e74-aa97-6094bd035940",
      "metadata": {
        "id": "63424d81-bab2-4e74-aa97-6094bd035940"
      },
      "source": [
        "### Cleaning/Fromat date"
      ]
    },
    {
      "cell_type": "code",
      "execution_count": null,
      "id": "33f1a718-af12-4fa4-85ae-f5511e8986ae",
      "metadata": {
        "colab": {
          "base_uri": "https://localhost:8080/",
          "height": 272
        },
        "id": "33f1a718-af12-4fa4-85ae-f5511e8986ae",
        "outputId": "d1e8152d-a1bd-4c9d-90db-d10fb6dadb51"
      },
      "outputs": [
        {
          "output_type": "execute_result",
          "data": {
            "text/plain": [
              "reviews      object\n",
              "stars       float64\n",
              "date         object\n",
              "country      object\n",
              "verified       bool\n",
              "corpus       object\n",
              "dtype: object"
            ],
            "text/html": [
              "<div>\n",
              "<style scoped>\n",
              "    .dataframe tbody tr th:only-of-type {\n",
              "        vertical-align: middle;\n",
              "    }\n",
              "\n",
              "    .dataframe tbody tr th {\n",
              "        vertical-align: top;\n",
              "    }\n",
              "\n",
              "    .dataframe thead th {\n",
              "        text-align: right;\n",
              "    }\n",
              "</style>\n",
              "<table border=\"1\" class=\"dataframe\">\n",
              "  <thead>\n",
              "    <tr style=\"text-align: right;\">\n",
              "      <th></th>\n",
              "      <th>0</th>\n",
              "    </tr>\n",
              "  </thead>\n",
              "  <tbody>\n",
              "    <tr>\n",
              "      <th>reviews</th>\n",
              "      <td>object</td>\n",
              "    </tr>\n",
              "    <tr>\n",
              "      <th>stars</th>\n",
              "      <td>float64</td>\n",
              "    </tr>\n",
              "    <tr>\n",
              "      <th>date</th>\n",
              "      <td>object</td>\n",
              "    </tr>\n",
              "    <tr>\n",
              "      <th>country</th>\n",
              "      <td>object</td>\n",
              "    </tr>\n",
              "    <tr>\n",
              "      <th>verified</th>\n",
              "      <td>bool</td>\n",
              "    </tr>\n",
              "    <tr>\n",
              "      <th>corpus</th>\n",
              "      <td>object</td>\n",
              "    </tr>\n",
              "  </tbody>\n",
              "</table>\n",
              "</div><br><label><b>dtype:</b> object</label>"
            ]
          },
          "metadata": {},
          "execution_count": 24
        }
      ],
      "source": [
        "df.dtypes"
      ]
    },
    {
      "source": [
        "import pandas as pd\n",
        "\n",
        "def remove_ordinal(date_str):\n",
        "    \"\"\"Removes the ordinal indicator from a date string using pandas.\"\"\"\n",
        "    # Use regex to remove ordinal indicators (st, nd, rd, th)\n",
        "    date_str = re.sub(r'(\\d+)(st|nd|rd|th)', r'\\1', date_str)\n",
        "    return pd.to_datetime(date_str, format='%d %B %Y').strftime('%d %B %Y')\n",
        "\n",
        "# Apply the function to the 'date' column\n",
        "df['date'] = df['date'].apply(remove_ordinal)"
      ],
      "cell_type": "code",
      "metadata": {
        "id": "YZHfxqOXlgis"
      },
      "id": "YZHfxqOXlgis",
      "execution_count": null,
      "outputs": []
    },
    {
      "cell_type": "code",
      "source": [
        "df.date = pd.to_datetime(df.date)"
      ],
      "metadata": {
        "id": "NekUM1XNmNjR"
      },
      "id": "NekUM1XNmNjR",
      "execution_count": null,
      "outputs": []
    },
    {
      "cell_type": "code",
      "execution_count": null,
      "id": "0440c89e-9a89-4ef4-888f-eb25ad833afb",
      "metadata": {
        "colab": {
          "base_uri": "https://localhost:8080/",
          "height": 241
        },
        "id": "0440c89e-9a89-4ef4-888f-eb25ad833afb",
        "outputId": "71d5ce3a-31a6-4737-d7fd-2df030f0d009"
      },
      "outputs": [
        {
          "output_type": "execute_result",
          "data": {
            "text/plain": [
              "0   2024-09-02\n",
              "1   2024-09-01\n",
              "2   2024-08-30\n",
              "3   2024-08-28\n",
              "4   2024-08-28\n",
              "Name: date, dtype: datetime64[ns]"
            ],
            "text/html": [
              "<div>\n",
              "<style scoped>\n",
              "    .dataframe tbody tr th:only-of-type {\n",
              "        vertical-align: middle;\n",
              "    }\n",
              "\n",
              "    .dataframe tbody tr th {\n",
              "        vertical-align: top;\n",
              "    }\n",
              "\n",
              "    .dataframe thead th {\n",
              "        text-align: right;\n",
              "    }\n",
              "</style>\n",
              "<table border=\"1\" class=\"dataframe\">\n",
              "  <thead>\n",
              "    <tr style=\"text-align: right;\">\n",
              "      <th></th>\n",
              "      <th>date</th>\n",
              "    </tr>\n",
              "  </thead>\n",
              "  <tbody>\n",
              "    <tr>\n",
              "      <th>0</th>\n",
              "      <td>2024-09-02</td>\n",
              "    </tr>\n",
              "    <tr>\n",
              "      <th>1</th>\n",
              "      <td>2024-09-01</td>\n",
              "    </tr>\n",
              "    <tr>\n",
              "      <th>2</th>\n",
              "      <td>2024-08-30</td>\n",
              "    </tr>\n",
              "    <tr>\n",
              "      <th>3</th>\n",
              "      <td>2024-08-28</td>\n",
              "    </tr>\n",
              "    <tr>\n",
              "      <th>4</th>\n",
              "      <td>2024-08-28</td>\n",
              "    </tr>\n",
              "  </tbody>\n",
              "</table>\n",
              "</div><br><label><b>dtype:</b> datetime64[ns]</label>"
            ]
          },
          "metadata": {},
          "execution_count": 36
        }
      ],
      "source": [
        "df.date.head()"
      ]
    },
    {
      "cell_type": "markdown",
      "id": "a7973868-80c4-46b9-9449-6761fac91f64",
      "metadata": {
        "id": "a7973868-80c4-46b9-9449-6761fac91f64"
      },
      "source": [
        "### Cleaning ratings with stars"
      ]
    },
    {
      "cell_type": "code",
      "execution_count": null,
      "id": "4f535799-1f5a-43d2-a858-5639f35b073c",
      "metadata": {
        "colab": {
          "base_uri": "https://localhost:8080/"
        },
        "id": "4f535799-1f5a-43d2-a858-5639f35b073c",
        "outputId": "f3930215-5f3c-43c4-e96f-83d8b04e0ee8"
      },
      "outputs": [
        {
          "output_type": "execute_result",
          "data": {
            "text/plain": [
              "array([ 5.,  4.,  2.,  8.,  1.,  9., 10.,  3.,  6.,  7., nan])"
            ]
          },
          "metadata": {},
          "execution_count": 37
        }
      ],
      "source": [
        "#check for unique values\n",
        "df.stars.unique()"
      ]
    },
    {
      "source": [
        "# remove the \\t and \\n from the ratings\n",
        "df.stars = df.stars.astype(str).str.strip(\"\\n\\t\\t\\t\\t\\t\\t\\t\\t\\t\\t\\t\\t\\t\")"
      ],
      "cell_type": "code",
      "metadata": {
        "id": "4J4BzgMambpU"
      },
      "id": "4J4BzgMambpU",
      "execution_count": null,
      "outputs": []
    },
    {
      "cell_type": "code",
      "execution_count": null,
      "id": "9cbfaa06-b519-4ce1-bb50-420692a923d6",
      "metadata": {
        "colab": {
          "base_uri": "https://localhost:8080/",
          "height": 460
        },
        "id": "9cbfaa06-b519-4ce1-bb50-420692a923d6",
        "outputId": "b4a634d8-6919-4102-83d9-79fa1e516e4d"
      },
      "outputs": [
        {
          "output_type": "execute_result",
          "data": {
            "text/plain": [
              "stars\n",
              "1.0     863\n",
              "2.0     408\n",
              "3.0     399\n",
              "8.0     338\n",
              "10.0    288\n",
              "7.0     274\n",
              "9.0     272\n",
              "5.0     247\n",
              "4.0     235\n",
              "6.0     173\n",
              "nan       3\n",
              "Name: count, dtype: int64"
            ],
            "text/html": [
              "<div>\n",
              "<style scoped>\n",
              "    .dataframe tbody tr th:only-of-type {\n",
              "        vertical-align: middle;\n",
              "    }\n",
              "\n",
              "    .dataframe tbody tr th {\n",
              "        vertical-align: top;\n",
              "    }\n",
              "\n",
              "    .dataframe thead th {\n",
              "        text-align: right;\n",
              "    }\n",
              "</style>\n",
              "<table border=\"1\" class=\"dataframe\">\n",
              "  <thead>\n",
              "    <tr style=\"text-align: right;\">\n",
              "      <th></th>\n",
              "      <th>count</th>\n",
              "    </tr>\n",
              "    <tr>\n",
              "      <th>stars</th>\n",
              "      <th></th>\n",
              "    </tr>\n",
              "  </thead>\n",
              "  <tbody>\n",
              "    <tr>\n",
              "      <th>1.0</th>\n",
              "      <td>863</td>\n",
              "    </tr>\n",
              "    <tr>\n",
              "      <th>2.0</th>\n",
              "      <td>408</td>\n",
              "    </tr>\n",
              "    <tr>\n",
              "      <th>3.0</th>\n",
              "      <td>399</td>\n",
              "    </tr>\n",
              "    <tr>\n",
              "      <th>8.0</th>\n",
              "      <td>338</td>\n",
              "    </tr>\n",
              "    <tr>\n",
              "      <th>10.0</th>\n",
              "      <td>288</td>\n",
              "    </tr>\n",
              "    <tr>\n",
              "      <th>7.0</th>\n",
              "      <td>274</td>\n",
              "    </tr>\n",
              "    <tr>\n",
              "      <th>9.0</th>\n",
              "      <td>272</td>\n",
              "    </tr>\n",
              "    <tr>\n",
              "      <th>5.0</th>\n",
              "      <td>247</td>\n",
              "    </tr>\n",
              "    <tr>\n",
              "      <th>4.0</th>\n",
              "      <td>235</td>\n",
              "    </tr>\n",
              "    <tr>\n",
              "      <th>6.0</th>\n",
              "      <td>173</td>\n",
              "    </tr>\n",
              "    <tr>\n",
              "      <th>nan</th>\n",
              "      <td>3</td>\n",
              "    </tr>\n",
              "  </tbody>\n",
              "</table>\n",
              "</div><br><label><b>dtype:</b> int64</label>"
            ]
          },
          "metadata": {},
          "execution_count": 40
        }
      ],
      "source": [
        "df.stars.value_counts()"
      ]
    },
    {
      "cell_type": "markdown",
      "id": "23941023-6f4d-44a3-9ae5-34ba7270a646",
      "metadata": {
        "id": "23941023-6f4d-44a3-9ae5-34ba7270a646"
      },
      "source": [
        "There are 5 rows having values \"None\" in the ratings. We will drop all these 5 rows."
      ]
    },
    {
      "cell_type": "code",
      "execution_count": null,
      "id": "e5d3e147-b454-4515-8b14-54e4ec756b1c",
      "metadata": {
        "id": "e5d3e147-b454-4515-8b14-54e4ec756b1c"
      },
      "outputs": [],
      "source": [
        "# drop the rows where the value of ratings is None\n",
        "df.drop(df[df.stars == \"None\"].index, axis=0, inplace=True)"
      ]
    },
    {
      "cell_type": "code",
      "execution_count": null,
      "id": "e152aed3-2da4-4ee9-90dc-d2bd3553d870",
      "metadata": {
        "colab": {
          "base_uri": "https://localhost:8080/"
        },
        "id": "e152aed3-2da4-4ee9-90dc-d2bd3553d870",
        "outputId": "206ce5a1-ca82-4ce2-c7b8-bd93011c81f9"
      },
      "outputs": [
        {
          "output_type": "execute_result",
          "data": {
            "text/plain": [
              "array(['5.0', '4.0', '2.0', '8.0', '1.0', '9.0', '10.0', '3.0', '6.0',\n",
              "       '7.0', 'nan'], dtype=object)"
            ]
          },
          "metadata": {},
          "execution_count": 42
        }
      ],
      "source": [
        "#check the unique values again\n",
        "df.stars.unique()"
      ]
    },
    {
      "cell_type": "markdown",
      "id": "c29e569e-bab0-4d73-8496-f60aa375be38",
      "metadata": {
        "id": "c29e569e-bab0-4d73-8496-f60aa375be38"
      },
      "source": [
        "## Check for null Values"
      ]
    },
    {
      "cell_type": "code",
      "execution_count": null,
      "id": "e81950f2-0cb3-4c1a-9859-233f4c3304d7",
      "metadata": {
        "colab": {
          "base_uri": "https://localhost:8080/",
          "height": 178
        },
        "id": "e81950f2-0cb3-4c1a-9859-233f4c3304d7",
        "outputId": "e3ae0144-92c1-4c04-edc0-b032dff91177"
      },
      "outputs": [
        {
          "output_type": "execute_result",
          "data": {
            "text/plain": [
              "reviews  stars  date   country  verified  corpus\n",
              "False    False  False  False    False     False     3499\n",
              "                       True     False     False        1\n",
              "Name: count, dtype: int64"
            ],
            "text/html": [
              "<div>\n",
              "<style scoped>\n",
              "    .dataframe tbody tr th:only-of-type {\n",
              "        vertical-align: middle;\n",
              "    }\n",
              "\n",
              "    .dataframe tbody tr th {\n",
              "        vertical-align: top;\n",
              "    }\n",
              "\n",
              "    .dataframe thead th {\n",
              "        text-align: right;\n",
              "    }\n",
              "</style>\n",
              "<table border=\"1\" class=\"dataframe\">\n",
              "  <thead>\n",
              "    <tr style=\"text-align: right;\">\n",
              "      <th></th>\n",
              "      <th></th>\n",
              "      <th></th>\n",
              "      <th></th>\n",
              "      <th></th>\n",
              "      <th></th>\n",
              "      <th>count</th>\n",
              "    </tr>\n",
              "    <tr>\n",
              "      <th>reviews</th>\n",
              "      <th>stars</th>\n",
              "      <th>date</th>\n",
              "      <th>country</th>\n",
              "      <th>verified</th>\n",
              "      <th>corpus</th>\n",
              "      <th></th>\n",
              "    </tr>\n",
              "  </thead>\n",
              "  <tbody>\n",
              "    <tr>\n",
              "      <th rowspan=\"2\" valign=\"top\">False</th>\n",
              "      <th rowspan=\"2\" valign=\"top\">False</th>\n",
              "      <th rowspan=\"2\" valign=\"top\">False</th>\n",
              "      <th>False</th>\n",
              "      <th>False</th>\n",
              "      <th>False</th>\n",
              "      <td>3499</td>\n",
              "    </tr>\n",
              "    <tr>\n",
              "      <th>True</th>\n",
              "      <th>False</th>\n",
              "      <th>False</th>\n",
              "      <td>1</td>\n",
              "    </tr>\n",
              "  </tbody>\n",
              "</table>\n",
              "</div><br><label><b>dtype:</b> int64</label>"
            ]
          },
          "metadata": {},
          "execution_count": 43
        }
      ],
      "source": [
        "df.isnull().value_counts()"
      ]
    },
    {
      "cell_type": "code",
      "execution_count": null,
      "id": "7c53f6a8-3f14-4711-a11a-a99f72015431",
      "metadata": {
        "colab": {
          "base_uri": "https://localhost:8080/",
          "height": 178
        },
        "id": "7c53f6a8-3f14-4711-a11a-a99f72015431",
        "outputId": "5d3c4704-5f09-4ea9-f754-4b72fc579004"
      },
      "outputs": [
        {
          "output_type": "execute_result",
          "data": {
            "text/plain": [
              "country\n",
              "False    3499\n",
              "True        1\n",
              "Name: count, dtype: int64"
            ],
            "text/html": [
              "<div>\n",
              "<style scoped>\n",
              "    .dataframe tbody tr th:only-of-type {\n",
              "        vertical-align: middle;\n",
              "    }\n",
              "\n",
              "    .dataframe tbody tr th {\n",
              "        vertical-align: top;\n",
              "    }\n",
              "\n",
              "    .dataframe thead th {\n",
              "        text-align: right;\n",
              "    }\n",
              "</style>\n",
              "<table border=\"1\" class=\"dataframe\">\n",
              "  <thead>\n",
              "    <tr style=\"text-align: right;\">\n",
              "      <th></th>\n",
              "      <th>count</th>\n",
              "    </tr>\n",
              "    <tr>\n",
              "      <th>country</th>\n",
              "      <th></th>\n",
              "    </tr>\n",
              "  </thead>\n",
              "  <tbody>\n",
              "    <tr>\n",
              "      <th>False</th>\n",
              "      <td>3499</td>\n",
              "    </tr>\n",
              "    <tr>\n",
              "      <th>True</th>\n",
              "      <td>1</td>\n",
              "    </tr>\n",
              "  </tbody>\n",
              "</table>\n",
              "</div><br><label><b>dtype:</b> int64</label>"
            ]
          },
          "metadata": {},
          "execution_count": 44
        }
      ],
      "source": [
        "df.country.isnull().value_counts()"
      ]
    },
    {
      "cell_type": "markdown",
      "id": "3d9dbc68-9826-49e0-a003-d1c0c5e5d4f6",
      "metadata": {
        "id": "3d9dbc68-9826-49e0-a003-d1c0c5e5d4f6"
      },
      "source": [
        "We have two missing values for country. For this we can just remove those two reviews (rows) from the dataframe."
      ]
    },
    {
      "cell_type": "code",
      "execution_count": null,
      "id": "98b5b16a-c25d-475b-8894-e680323195eb",
      "metadata": {
        "id": "98b5b16a-c25d-475b-8894-e680323195eb"
      },
      "outputs": [],
      "source": [
        "#drop the rows using index where the country value is null\n",
        "df.drop(df[df.country.isnull() == True].index, axis=0, inplace=True)"
      ]
    },
    {
      "cell_type": "code",
      "execution_count": null,
      "id": "116656f9-0f7a-4d79-8f69-7f4fbf711eca",
      "metadata": {
        "colab": {
          "base_uri": "https://localhost:8080/"
        },
        "id": "116656f9-0f7a-4d79-8f69-7f4fbf711eca",
        "outputId": "630f7ce7-9f45-4199-ef6b-4ae6aabd4d8e"
      },
      "outputs": [
        {
          "output_type": "execute_result",
          "data": {
            "text/plain": [
              "(3499, 6)"
            ]
          },
          "metadata": {},
          "execution_count": 46
        }
      ],
      "source": [
        "df.shape"
      ]
    },
    {
      "cell_type": "code",
      "execution_count": null,
      "id": "54a2b64d-4730-44f3-b40c-409d098f78f9",
      "metadata": {
        "colab": {
          "base_uri": "https://localhost:8080/",
          "height": 597
        },
        "id": "54a2b64d-4730-44f3-b40c-409d098f78f9",
        "outputId": "3326e723-7f7e-4b93-c666-94095f1e908a"
      },
      "outputs": [
        {
          "output_type": "execute_result",
          "data": {
            "text/plain": [
              "                                                reviews stars       date  \\\n",
              "0     ✅ Trip Verified | As someone who flies relentl...   5.0 2024-09-02   \n",
              "1     ✅ Trip Verified |   Flew with British Airways ...   4.0 2024-09-01   \n",
              "2     ✅ Trip Verified |   Straightforward check in T...   2.0 2024-08-30   \n",
              "3     Not Verified | I am beyond upset and disgusted...   8.0 2024-08-28   \n",
              "4     ✅ Trip Verified |   I purchased round trip dir...   1.0 2024-08-28   \n",
              "...                                                 ...   ...        ...   \n",
              "3494  LHR-DEL. RTN Club World. Excellent service on ...   9.0 2014-10-28   \n",
              "3495  Flew BA from Toronto to New Delhi via London i...   9.0 2014-10-28   \n",
              "3496  Round-trip IAD-LHR in early October and it was...   2.0 2014-10-28   \n",
              "3497  Arrived at Gatwick to find out that our pre-pa...   8.0 2014-10-28   \n",
              "3498  LGW-AGP and back. 737-400s on both journeys. T...   5.0 2014-10-22   \n",
              "\n",
              "             country  verified  \\\n",
              "0     United Kingdom      True   \n",
              "1     United Kingdom      True   \n",
              "2     United Kingdom      True   \n",
              "3     United Kingdom     False   \n",
              "4          Hong Kong      True   \n",
              "...              ...       ...   \n",
              "3494  United Kingdom     False   \n",
              "3495          Canada     False   \n",
              "3496   United States     False   \n",
              "3497  United Kingdom     False   \n",
              "3498  United Kingdom     False   \n",
              "\n",
              "                                                 corpus  \n",
              "0     someone fly relentlessly british airway busine...  \n",
              "1     flew british airway club europe saturday st au...  \n",
              "2     straightforward check new site club check work...  \n",
              "3     verified beyond upset disgusted disregard lack...  \n",
              "4     purchased round trip direct flight business cl...  \n",
              "...                                                 ...  \n",
              "3494  lhr del rtn club world excellent service secto...  \n",
              "3495  flew ba toronto new delhi via london premium e...  \n",
              "3496  round trip iad lhr early october one best trip...  \n",
              "3497  arrived gatwick find pre paid assigned seat co...  \n",
              "3498  lgw agp back journey aircraft looking tatty se...  \n",
              "\n",
              "[3499 rows x 6 columns]"
            ],
            "text/html": [
              "\n",
              "  <div id=\"df-4ae4ca9b-b01c-4f77-a2ec-c3342f943a90\" class=\"colab-df-container\">\n",
              "    <div>\n",
              "<style scoped>\n",
              "    .dataframe tbody tr th:only-of-type {\n",
              "        vertical-align: middle;\n",
              "    }\n",
              "\n",
              "    .dataframe tbody tr th {\n",
              "        vertical-align: top;\n",
              "    }\n",
              "\n",
              "    .dataframe thead th {\n",
              "        text-align: right;\n",
              "    }\n",
              "</style>\n",
              "<table border=\"1\" class=\"dataframe\">\n",
              "  <thead>\n",
              "    <tr style=\"text-align: right;\">\n",
              "      <th></th>\n",
              "      <th>reviews</th>\n",
              "      <th>stars</th>\n",
              "      <th>date</th>\n",
              "      <th>country</th>\n",
              "      <th>verified</th>\n",
              "      <th>corpus</th>\n",
              "    </tr>\n",
              "  </thead>\n",
              "  <tbody>\n",
              "    <tr>\n",
              "      <th>0</th>\n",
              "      <td>✅ Trip Verified | As someone who flies relentl...</td>\n",
              "      <td>5.0</td>\n",
              "      <td>2024-09-02</td>\n",
              "      <td>United Kingdom</td>\n",
              "      <td>True</td>\n",
              "      <td>someone fly relentlessly british airway busine...</td>\n",
              "    </tr>\n",
              "    <tr>\n",
              "      <th>1</th>\n",
              "      <td>✅ Trip Verified |   Flew with British Airways ...</td>\n",
              "      <td>4.0</td>\n",
              "      <td>2024-09-01</td>\n",
              "      <td>United Kingdom</td>\n",
              "      <td>True</td>\n",
              "      <td>flew british airway club europe saturday st au...</td>\n",
              "    </tr>\n",
              "    <tr>\n",
              "      <th>2</th>\n",
              "      <td>✅ Trip Verified |   Straightforward check in T...</td>\n",
              "      <td>2.0</td>\n",
              "      <td>2024-08-30</td>\n",
              "      <td>United Kingdom</td>\n",
              "      <td>True</td>\n",
              "      <td>straightforward check new site club check work...</td>\n",
              "    </tr>\n",
              "    <tr>\n",
              "      <th>3</th>\n",
              "      <td>Not Verified | I am beyond upset and disgusted...</td>\n",
              "      <td>8.0</td>\n",
              "      <td>2024-08-28</td>\n",
              "      <td>United Kingdom</td>\n",
              "      <td>False</td>\n",
              "      <td>verified beyond upset disgusted disregard lack...</td>\n",
              "    </tr>\n",
              "    <tr>\n",
              "      <th>4</th>\n",
              "      <td>✅ Trip Verified |   I purchased round trip dir...</td>\n",
              "      <td>1.0</td>\n",
              "      <td>2024-08-28</td>\n",
              "      <td>Hong Kong</td>\n",
              "      <td>True</td>\n",
              "      <td>purchased round trip direct flight business cl...</td>\n",
              "    </tr>\n",
              "    <tr>\n",
              "      <th>...</th>\n",
              "      <td>...</td>\n",
              "      <td>...</td>\n",
              "      <td>...</td>\n",
              "      <td>...</td>\n",
              "      <td>...</td>\n",
              "      <td>...</td>\n",
              "    </tr>\n",
              "    <tr>\n",
              "      <th>3494</th>\n",
              "      <td>LHR-DEL. RTN Club World. Excellent service on ...</td>\n",
              "      <td>9.0</td>\n",
              "      <td>2014-10-28</td>\n",
              "      <td>United Kingdom</td>\n",
              "      <td>False</td>\n",
              "      <td>lhr del rtn club world excellent service secto...</td>\n",
              "    </tr>\n",
              "    <tr>\n",
              "      <th>3495</th>\n",
              "      <td>Flew BA from Toronto to New Delhi via London i...</td>\n",
              "      <td>9.0</td>\n",
              "      <td>2014-10-28</td>\n",
              "      <td>Canada</td>\n",
              "      <td>False</td>\n",
              "      <td>flew ba toronto new delhi via london premium e...</td>\n",
              "    </tr>\n",
              "    <tr>\n",
              "      <th>3496</th>\n",
              "      <td>Round-trip IAD-LHR in early October and it was...</td>\n",
              "      <td>2.0</td>\n",
              "      <td>2014-10-28</td>\n",
              "      <td>United States</td>\n",
              "      <td>False</td>\n",
              "      <td>round trip iad lhr early october one best trip...</td>\n",
              "    </tr>\n",
              "    <tr>\n",
              "      <th>3497</th>\n",
              "      <td>Arrived at Gatwick to find out that our pre-pa...</td>\n",
              "      <td>8.0</td>\n",
              "      <td>2014-10-28</td>\n",
              "      <td>United Kingdom</td>\n",
              "      <td>False</td>\n",
              "      <td>arrived gatwick find pre paid assigned seat co...</td>\n",
              "    </tr>\n",
              "    <tr>\n",
              "      <th>3498</th>\n",
              "      <td>LGW-AGP and back. 737-400s on both journeys. T...</td>\n",
              "      <td>5.0</td>\n",
              "      <td>2014-10-22</td>\n",
              "      <td>United Kingdom</td>\n",
              "      <td>False</td>\n",
              "      <td>lgw agp back journey aircraft looking tatty se...</td>\n",
              "    </tr>\n",
              "  </tbody>\n",
              "</table>\n",
              "<p>3499 rows × 6 columns</p>\n",
              "</div>\n",
              "    <div class=\"colab-df-buttons\">\n",
              "\n",
              "  <div class=\"colab-df-container\">\n",
              "    <button class=\"colab-df-convert\" onclick=\"convertToInteractive('df-4ae4ca9b-b01c-4f77-a2ec-c3342f943a90')\"\n",
              "            title=\"Convert this dataframe to an interactive table.\"\n",
              "            style=\"display:none;\">\n",
              "\n",
              "  <svg xmlns=\"http://www.w3.org/2000/svg\" height=\"24px\" viewBox=\"0 -960 960 960\">\n",
              "    <path d=\"M120-120v-720h720v720H120Zm60-500h600v-160H180v160Zm220 220h160v-160H400v160Zm0 220h160v-160H400v160ZM180-400h160v-160H180v160Zm440 0h160v-160H620v160ZM180-180h160v-160H180v160Zm440 0h160v-160H620v160Z\"/>\n",
              "  </svg>\n",
              "    </button>\n",
              "\n",
              "  <style>\n",
              "    .colab-df-container {\n",
              "      display:flex;\n",
              "      gap: 12px;\n",
              "    }\n",
              "\n",
              "    .colab-df-convert {\n",
              "      background-color: #E8F0FE;\n",
              "      border: none;\n",
              "      border-radius: 50%;\n",
              "      cursor: pointer;\n",
              "      display: none;\n",
              "      fill: #1967D2;\n",
              "      height: 32px;\n",
              "      padding: 0 0 0 0;\n",
              "      width: 32px;\n",
              "    }\n",
              "\n",
              "    .colab-df-convert:hover {\n",
              "      background-color: #E2EBFA;\n",
              "      box-shadow: 0px 1px 2px rgba(60, 64, 67, 0.3), 0px 1px 3px 1px rgba(60, 64, 67, 0.15);\n",
              "      fill: #174EA6;\n",
              "    }\n",
              "\n",
              "    .colab-df-buttons div {\n",
              "      margin-bottom: 4px;\n",
              "    }\n",
              "\n",
              "    [theme=dark] .colab-df-convert {\n",
              "      background-color: #3B4455;\n",
              "      fill: #D2E3FC;\n",
              "    }\n",
              "\n",
              "    [theme=dark] .colab-df-convert:hover {\n",
              "      background-color: #434B5C;\n",
              "      box-shadow: 0px 1px 3px 1px rgba(0, 0, 0, 0.15);\n",
              "      filter: drop-shadow(0px 1px 2px rgba(0, 0, 0, 0.3));\n",
              "      fill: #FFFFFF;\n",
              "    }\n",
              "  </style>\n",
              "\n",
              "    <script>\n",
              "      const buttonEl =\n",
              "        document.querySelector('#df-4ae4ca9b-b01c-4f77-a2ec-c3342f943a90 button.colab-df-convert');\n",
              "      buttonEl.style.display =\n",
              "        google.colab.kernel.accessAllowed ? 'block' : 'none';\n",
              "\n",
              "      async function convertToInteractive(key) {\n",
              "        const element = document.querySelector('#df-4ae4ca9b-b01c-4f77-a2ec-c3342f943a90');\n",
              "        const dataTable =\n",
              "          await google.colab.kernel.invokeFunction('convertToInteractive',\n",
              "                                                    [key], {});\n",
              "        if (!dataTable) return;\n",
              "\n",
              "        const docLinkHtml = 'Like what you see? Visit the ' +\n",
              "          '<a target=\"_blank\" href=https://colab.research.google.com/notebooks/data_table.ipynb>data table notebook</a>'\n",
              "          + ' to learn more about interactive tables.';\n",
              "        element.innerHTML = '';\n",
              "        dataTable['output_type'] = 'display_data';\n",
              "        await google.colab.output.renderOutput(dataTable, element);\n",
              "        const docLink = document.createElement('div');\n",
              "        docLink.innerHTML = docLinkHtml;\n",
              "        element.appendChild(docLink);\n",
              "      }\n",
              "    </script>\n",
              "  </div>\n",
              "\n",
              "\n",
              "<div id=\"df-c281fefe-954f-4b24-80fe-2b474e15119b\">\n",
              "  <button class=\"colab-df-quickchart\" onclick=\"quickchart('df-c281fefe-954f-4b24-80fe-2b474e15119b')\"\n",
              "            title=\"Suggest charts\"\n",
              "            style=\"display:none;\">\n",
              "\n",
              "<svg xmlns=\"http://www.w3.org/2000/svg\" height=\"24px\"viewBox=\"0 0 24 24\"\n",
              "     width=\"24px\">\n",
              "    <g>\n",
              "        <path d=\"M19 3H5c-1.1 0-2 .9-2 2v14c0 1.1.9 2 2 2h14c1.1 0 2-.9 2-2V5c0-1.1-.9-2-2-2zM9 17H7v-7h2v7zm4 0h-2V7h2v10zm4 0h-2v-4h2v4z\"/>\n",
              "    </g>\n",
              "</svg>\n",
              "  </button>\n",
              "\n",
              "<style>\n",
              "  .colab-df-quickchart {\n",
              "      --bg-color: #E8F0FE;\n",
              "      --fill-color: #1967D2;\n",
              "      --hover-bg-color: #E2EBFA;\n",
              "      --hover-fill-color: #174EA6;\n",
              "      --disabled-fill-color: #AAA;\n",
              "      --disabled-bg-color: #DDD;\n",
              "  }\n",
              "\n",
              "  [theme=dark] .colab-df-quickchart {\n",
              "      --bg-color: #3B4455;\n",
              "      --fill-color: #D2E3FC;\n",
              "      --hover-bg-color: #434B5C;\n",
              "      --hover-fill-color: #FFFFFF;\n",
              "      --disabled-bg-color: #3B4455;\n",
              "      --disabled-fill-color: #666;\n",
              "  }\n",
              "\n",
              "  .colab-df-quickchart {\n",
              "    background-color: var(--bg-color);\n",
              "    border: none;\n",
              "    border-radius: 50%;\n",
              "    cursor: pointer;\n",
              "    display: none;\n",
              "    fill: var(--fill-color);\n",
              "    height: 32px;\n",
              "    padding: 0;\n",
              "    width: 32px;\n",
              "  }\n",
              "\n",
              "  .colab-df-quickchart:hover {\n",
              "    background-color: var(--hover-bg-color);\n",
              "    box-shadow: 0 1px 2px rgba(60, 64, 67, 0.3), 0 1px 3px 1px rgba(60, 64, 67, 0.15);\n",
              "    fill: var(--button-hover-fill-color);\n",
              "  }\n",
              "\n",
              "  .colab-df-quickchart-complete:disabled,\n",
              "  .colab-df-quickchart-complete:disabled:hover {\n",
              "    background-color: var(--disabled-bg-color);\n",
              "    fill: var(--disabled-fill-color);\n",
              "    box-shadow: none;\n",
              "  }\n",
              "\n",
              "  .colab-df-spinner {\n",
              "    border: 2px solid var(--fill-color);\n",
              "    border-color: transparent;\n",
              "    border-bottom-color: var(--fill-color);\n",
              "    animation:\n",
              "      spin 1s steps(1) infinite;\n",
              "  }\n",
              "\n",
              "  @keyframes spin {\n",
              "    0% {\n",
              "      border-color: transparent;\n",
              "      border-bottom-color: var(--fill-color);\n",
              "      border-left-color: var(--fill-color);\n",
              "    }\n",
              "    20% {\n",
              "      border-color: transparent;\n",
              "      border-left-color: var(--fill-color);\n",
              "      border-top-color: var(--fill-color);\n",
              "    }\n",
              "    30% {\n",
              "      border-color: transparent;\n",
              "      border-left-color: var(--fill-color);\n",
              "      border-top-color: var(--fill-color);\n",
              "      border-right-color: var(--fill-color);\n",
              "    }\n",
              "    40% {\n",
              "      border-color: transparent;\n",
              "      border-right-color: var(--fill-color);\n",
              "      border-top-color: var(--fill-color);\n",
              "    }\n",
              "    60% {\n",
              "      border-color: transparent;\n",
              "      border-right-color: var(--fill-color);\n",
              "    }\n",
              "    80% {\n",
              "      border-color: transparent;\n",
              "      border-right-color: var(--fill-color);\n",
              "      border-bottom-color: var(--fill-color);\n",
              "    }\n",
              "    90% {\n",
              "      border-color: transparent;\n",
              "      border-bottom-color: var(--fill-color);\n",
              "    }\n",
              "  }\n",
              "</style>\n",
              "\n",
              "  <script>\n",
              "    async function quickchart(key) {\n",
              "      const quickchartButtonEl =\n",
              "        document.querySelector('#' + key + ' button');\n",
              "      quickchartButtonEl.disabled = true;  // To prevent multiple clicks.\n",
              "      quickchartButtonEl.classList.add('colab-df-spinner');\n",
              "      try {\n",
              "        const charts = await google.colab.kernel.invokeFunction(\n",
              "            'suggestCharts', [key], {});\n",
              "      } catch (error) {\n",
              "        console.error('Error during call to suggestCharts:', error);\n",
              "      }\n",
              "      quickchartButtonEl.classList.remove('colab-df-spinner');\n",
              "      quickchartButtonEl.classList.add('colab-df-quickchart-complete');\n",
              "    }\n",
              "    (() => {\n",
              "      let quickchartButtonEl =\n",
              "        document.querySelector('#df-c281fefe-954f-4b24-80fe-2b474e15119b button');\n",
              "      quickchartButtonEl.style.display =\n",
              "        google.colab.kernel.accessAllowed ? 'block' : 'none';\n",
              "    })();\n",
              "  </script>\n",
              "</div>\n",
              "\n",
              "    </div>\n",
              "  </div>\n"
            ],
            "application/vnd.google.colaboratory.intrinsic+json": {
              "type": "dataframe",
              "summary": "{\n  \"name\": \"df\",\n  \"rows\": 3499,\n  \"fields\": [\n    {\n      \"column\": \"reviews\",\n      \"properties\": {\n        \"dtype\": \"string\",\n        \"num_unique_values\": 3491,\n        \"samples\": [\n          \"\\u2705 Trip Verified |  The worst experience in all my years of travel. Bag was destroyed, flight delayed 3 hours and couldn't get water on board. Then when attempting to claim on their website the entire site failed on a dropdown menu that wouldn't work. You can't contact them. Plane was filthy and someone else's belongings and left over food was still in our seat.\",\n          \"\\u2705 Trip Verified |  I have always had great flights with British Airways but this time the experience was absolutely amazing! As this was my 100th flight, I decided to celebrate it in Club Europe, which turned out to be a perfect decision. The stewards working in Club made me feel special and delivered a professional and personalised service and were kind and chatty. Although the cabin crew was the best part of the flight, other features didn\\u2019t let me down either. Efficient business class check in at Warsaw, cosy executive lounge Preludium with attentive and helpful staff, well organised boarding (although no priority for Club Europe because of Corona). The aircraft was very fresh and clean. Seats were comfortable with enough legroom, adjustable headrests and power ports. The on board service is different than before Corona times but it\\u2019s still very good. Tasty lunch box from DO&CO with fresh chicken sandwich, oriental vegetable salad and and amazing chocolate mousse. The choice of drinks was wide, including a very good quality Champagne from Nicolas Feuillatte. All in all a perfect flight experience with British Airways. Everything I expected from this flight was fulfilled. The one thing I can complain about is baggage handling at Heathrow. We waited around 50 mins for luggage and they were also delivered irrespecutful of Club Europe priority.\",\n          \"\\u2705 Trip Verified |  The seating configuration meant that we were packed in like sardines. The seats are aging and uncomfortable. The forward-backward configuration is the most stupid I have seen. The cabin had 8 seats to a row and about 100 people packed into a crowded and noisy cabin. To book a specific seat you have to pay extra or try your luck 24 hours ahead of the flight. \"\n        ],\n        \"semantic_type\": \"\",\n        \"description\": \"\"\n      }\n    },\n    {\n      \"column\": \"stars\",\n      \"properties\": {\n        \"dtype\": \"category\",\n        \"num_unique_values\": 11,\n        \"samples\": [\n          \"9.0\",\n          \"5.0\",\n          \"7.0\"\n        ],\n        \"semantic_type\": \"\",\n        \"description\": \"\"\n      }\n    },\n    {\n      \"column\": \"date\",\n      \"properties\": {\n        \"dtype\": \"date\",\n        \"min\": \"2014-10-22 00:00:00\",\n        \"max\": \"2024-09-02 00:00:00\",\n        \"num_unique_values\": 1857,\n        \"samples\": [\n          \"2023-04-16 00:00:00\",\n          \"2021-12-02 00:00:00\",\n          \"2017-05-19 00:00:00\"\n        ],\n        \"semantic_type\": \"\",\n        \"description\": \"\"\n      }\n    },\n    {\n      \"column\": \"country\",\n      \"properties\": {\n        \"dtype\": \"category\",\n        \"num_unique_values\": 70,\n        \"samples\": [\n          \"Switzerland\",\n          \"United Kingdom\",\n          \"Saint Kitts and Nevis\"\n        ],\n        \"semantic_type\": \"\",\n        \"description\": \"\"\n      }\n    },\n    {\n      \"column\": \"verified\",\n      \"properties\": {\n        \"dtype\": \"boolean\",\n        \"num_unique_values\": 2,\n        \"samples\": [\n          false,\n          true\n        ],\n        \"semantic_type\": \"\",\n        \"description\": \"\"\n      }\n    },\n    {\n      \"column\": \"corpus\",\n      \"properties\": {\n        \"dtype\": \"string\",\n        \"num_unique_values\": 3491,\n        \"samples\": [\n          \"worst experience year travel bag destroyed flight delayed hour get water board attempting claim website entire site failed dropdown menu work contact plane filthy someone else belonging left food still seat\",\n          \"always great flight british airway time experience absolutely amazing th flight decided celebrate club europe turned perfect decision steward working club made feel special delivered professional personalised service kind chatty although cabin crew best part flight feature let either efficient business class check warsaw cosy executive lounge preludium attentive helpful staff well organised boarding although priority club europe corona aircraft fresh clean seat comfortable enough legroom adjustable headrest power port board service different corona time still good tasty lunch box co fresh chicken sandwich oriental vegetable salad amazing chocolate mousse choice drink wide including good quality champagne nicolas feuillatte perfect flight experience british airway everything expected flight fulfilled one thing complain baggage handling heathrow waited around min luggage also delivered irrespecutful club europe priority\"\n        ],\n        \"semantic_type\": \"\",\n        \"description\": \"\"\n      }\n    }\n  ]\n}"
            }
          },
          "metadata": {},
          "execution_count": 47
        }
      ],
      "source": [
        "#resetting the index\n",
        "df.reset_index(drop=True)"
      ]
    },
    {
      "cell_type": "markdown",
      "id": "9fa4efa3-5d41-4fa7-a5ac-a959e322fcc9",
      "metadata": {
        "id": "9fa4efa3-5d41-4fa7-a5ac-a959e322fcc9"
      },
      "source": [
        "*****"
      ]
    },
    {
      "cell_type": "markdown",
      "id": "cbb39abb-e09a-4bad-9fa6-65bba66ed631",
      "metadata": {
        "id": "cbb39abb-e09a-4bad-9fa6-65bba66ed631"
      },
      "source": [
        "Now our data is all cleaned and ready for data visualization and data analysis."
      ]
    },
    {
      "cell_type": "code",
      "execution_count": null,
      "id": "d9f0183c-e72a-4028-9c9a-1f3dee87c342",
      "metadata": {
        "id": "d9f0183c-e72a-4028-9c9a-1f3dee87c342"
      },
      "outputs": [],
      "source": [
        "# export the cleaned data\n",
        "\n",
        "df.to_csv(cwd + \"/cleaned-BA-reviews.csv\")"
      ]
    },
    {
      "cell_type": "markdown",
      "metadata": {
        "id": "bea5785e-6408-414e-a053-ac7f011e840c"
      },
      "source": [
        "## Exploratory Data Analysis"
      ],
      "id": "bea5785e-6408-414e-a053-ac7f011e840c"
    },
    {
      "cell_type": "code",
      "execution_count": null,
      "metadata": {
        "id": "52ecb7d2-e4b0-483a-bfbb-108de8da31d4"
      },
      "outputs": [],
      "source": [
        "#imports\n",
        "\n",
        "import pandas as pd\n",
        "import numpy as np\n",
        "import os\n",
        "\n",
        "import matplotlib.pyplot as plt\n",
        "import seaborn as sns\n",
        "import plotly.express as px\n",
        "\n",
        "import datetime as dt\n",
        "\n",
        "from wordcloud import WordCloud, STOPWORDS\n"
      ],
      "id": "52ecb7d2-e4b0-483a-bfbb-108de8da31d4"
    },
    {
      "cell_type": "code",
      "execution_count": null,
      "metadata": {
        "id": "d5f02928-640f-428c-af13-fda69b011d62"
      },
      "outputs": [],
      "source": [
        "# create the dataframe\n",
        "cwd = os.getcwd()\n",
        "df = pd.read_csv(cwd+\"/cleaned-BA-reviews.csv\", index_col=0)\n",
        "\n",
        "#let's also check the index are in order\n",
        "df = df.reset_index(drop=True)"
      ],
      "id": "d5f02928-640f-428c-af13-fda69b011d62"
    },
    {
      "cell_type": "code",
      "execution_count": null,
      "metadata": {
        "colab": {
          "base_uri": "https://localhost:8080/",
          "height": 380
        },
        "id": "b845610d-a9f1-4c5b-bee2-b266bbbec205",
        "outputId": "f8401ef2-896a-4b56-bb47-333451bdc6ae"
      },
      "outputs": [
        {
          "data": {
            "application/vnd.google.colaboratory.intrinsic+json": {
              "summary": "{\n  \"name\": \"df\",\n  \"rows\": 3499,\n  \"fields\": [\n    {\n      \"column\": \"reviews\",\n      \"properties\": {\n        \"dtype\": \"string\",\n        \"num_unique_values\": 3491,\n        \"samples\": [\n          \"\\u2705 Trip Verified |  The worst experience in all my years of travel. Bag was destroyed, flight delayed 3 hours and couldn't get water on board. Then when attempting to claim on their website the entire site failed on a dropdown menu that wouldn't work. You can't contact them. Plane was filthy and someone else's belongings and left over food was still in our seat.\",\n          \"\\u2705 Trip Verified |  I have always had great flights with British Airways but this time the experience was absolutely amazing! As this was my 100th flight, I decided to celebrate it in Club Europe, which turned out to be a perfect decision. The stewards working in Club made me feel special and delivered a professional and personalised service and were kind and chatty. Although the cabin crew was the best part of the flight, other features didn\\u2019t let me down either. Efficient business class check in at Warsaw, cosy executive lounge Preludium with attentive and helpful staff, well organised boarding (although no priority for Club Europe because of Corona). The aircraft was very fresh and clean. Seats were comfortable with enough legroom, adjustable headrests and power ports. The on board service is different than before Corona times but it\\u2019s still very good. Tasty lunch box from DO&CO with fresh chicken sandwich, oriental vegetable salad and and amazing chocolate mousse. The choice of drinks was wide, including a very good quality Champagne from Nicolas Feuillatte. All in all a perfect flight experience with British Airways. Everything I expected from this flight was fulfilled. The one thing I can complain about is baggage handling at Heathrow. We waited around 50 mins for luggage and they were also delivered irrespecutful of Club Europe priority.\",\n          \"\\u2705 Trip Verified |  The seating configuration meant that we were packed in like sardines. The seats are aging and uncomfortable. The forward-backward configuration is the most stupid I have seen. The cabin had 8 seats to a row and about 100 people packed into a crowded and noisy cabin. To book a specific seat you have to pay extra or try your luck 24 hours ahead of the flight. \"\n        ],\n        \"semantic_type\": \"\",\n        \"description\": \"\"\n      }\n    },\n    {\n      \"column\": \"stars\",\n      \"properties\": {\n        \"dtype\": \"number\",\n        \"std\": 3.145225251600434,\n        \"min\": 1.0,\n        \"max\": 10.0,\n        \"num_unique_values\": 10,\n        \"samples\": [\n          6.0,\n          4.0,\n          9.0\n        ],\n        \"semantic_type\": \"\",\n        \"description\": \"\"\n      }\n    },\n    {\n      \"column\": \"date\",\n      \"properties\": {\n        \"dtype\": \"object\",\n        \"num_unique_values\": 1857,\n        \"samples\": [\n          \"2023-04-16\",\n          \"2021-12-02\",\n          \"2017-05-19\"\n        ],\n        \"semantic_type\": \"\",\n        \"description\": \"\"\n      }\n    },\n    {\n      \"column\": \"country\",\n      \"properties\": {\n        \"dtype\": \"category\",\n        \"num_unique_values\": 70,\n        \"samples\": [\n          \"Switzerland\",\n          \"United Kingdom\",\n          \"Saint Kitts and Nevis\"\n        ],\n        \"semantic_type\": \"\",\n        \"description\": \"\"\n      }\n    },\n    {\n      \"column\": \"verified\",\n      \"properties\": {\n        \"dtype\": \"boolean\",\n        \"num_unique_values\": 2,\n        \"samples\": [\n          false,\n          true\n        ],\n        \"semantic_type\": \"\",\n        \"description\": \"\"\n      }\n    },\n    {\n      \"column\": \"corpus\",\n      \"properties\": {\n        \"dtype\": \"string\",\n        \"num_unique_values\": 3491,\n        \"samples\": [\n          \"worst experience year travel bag destroyed flight delayed hour get water board attempting claim website entire site failed dropdown menu work contact plane filthy someone else belonging left food still seat\",\n          \"always great flight british airway time experience absolutely amazing th flight decided celebrate club europe turned perfect decision steward working club made feel special delivered professional personalised service kind chatty although cabin crew best part flight feature let either efficient business class check warsaw cosy executive lounge preludium attentive helpful staff well organised boarding although priority club europe corona aircraft fresh clean seat comfortable enough legroom adjustable headrest power port board service different corona time still good tasty lunch box co fresh chicken sandwich oriental vegetable salad amazing chocolate mousse choice drink wide including good quality champagne nicolas feuillatte perfect flight experience british airway everything expected flight fulfilled one thing complain baggage handling heathrow waited around min luggage also delivered irrespecutful club europe priority\"\n        ],\n        \"semantic_type\": \"\",\n        \"description\": \"\"\n      }\n    }\n  ]\n}",
              "type": "dataframe",
              "variable_name": "df"
            },
            "text/html": [
              "\n",
              "  <div id=\"df-e534063e-24e8-48de-88a3-0f16b138db5e\" class=\"colab-df-container\">\n",
              "    <div>\n",
              "<style scoped>\n",
              "    .dataframe tbody tr th:only-of-type {\n",
              "        vertical-align: middle;\n",
              "    }\n",
              "\n",
              "    .dataframe tbody tr th {\n",
              "        vertical-align: top;\n",
              "    }\n",
              "\n",
              "    .dataframe thead th {\n",
              "        text-align: right;\n",
              "    }\n",
              "</style>\n",
              "<table border=\"1\" class=\"dataframe\">\n",
              "  <thead>\n",
              "    <tr style=\"text-align: right;\">\n",
              "      <th></th>\n",
              "      <th>reviews</th>\n",
              "      <th>stars</th>\n",
              "      <th>date</th>\n",
              "      <th>country</th>\n",
              "      <th>verified</th>\n",
              "      <th>corpus</th>\n",
              "    </tr>\n",
              "  </thead>\n",
              "  <tbody>\n",
              "    <tr>\n",
              "      <th>0</th>\n",
              "      <td>✅ Trip Verified | As someone who flies relentl...</td>\n",
              "      <td>5.0</td>\n",
              "      <td>2024-09-02</td>\n",
              "      <td>United Kingdom</td>\n",
              "      <td>True</td>\n",
              "      <td>someone fly relentlessly british airway busine...</td>\n",
              "    </tr>\n",
              "    <tr>\n",
              "      <th>1</th>\n",
              "      <td>✅ Trip Verified |   Flew with British Airways ...</td>\n",
              "      <td>4.0</td>\n",
              "      <td>2024-09-01</td>\n",
              "      <td>United Kingdom</td>\n",
              "      <td>True</td>\n",
              "      <td>flew british airway club europe saturday st au...</td>\n",
              "    </tr>\n",
              "    <tr>\n",
              "      <th>2</th>\n",
              "      <td>✅ Trip Verified |   Straightforward check in T...</td>\n",
              "      <td>2.0</td>\n",
              "      <td>2024-08-30</td>\n",
              "      <td>United Kingdom</td>\n",
              "      <td>True</td>\n",
              "      <td>straightforward check new site club check work...</td>\n",
              "    </tr>\n",
              "    <tr>\n",
              "      <th>3</th>\n",
              "      <td>Not Verified | I am beyond upset and disgusted...</td>\n",
              "      <td>8.0</td>\n",
              "      <td>2024-08-28</td>\n",
              "      <td>United Kingdom</td>\n",
              "      <td>False</td>\n",
              "      <td>verified beyond upset disgusted disregard lack...</td>\n",
              "    </tr>\n",
              "    <tr>\n",
              "      <th>4</th>\n",
              "      <td>✅ Trip Verified |   I purchased round trip dir...</td>\n",
              "      <td>1.0</td>\n",
              "      <td>2024-08-28</td>\n",
              "      <td>Hong Kong</td>\n",
              "      <td>True</td>\n",
              "      <td>purchased round trip direct flight business cl...</td>\n",
              "    </tr>\n",
              "  </tbody>\n",
              "</table>\n",
              "</div>\n",
              "    <div class=\"colab-df-buttons\">\n",
              "\n",
              "  <div class=\"colab-df-container\">\n",
              "    <button class=\"colab-df-convert\" onclick=\"convertToInteractive('df-e534063e-24e8-48de-88a3-0f16b138db5e')\"\n",
              "            title=\"Convert this dataframe to an interactive table.\"\n",
              "            style=\"display:none;\">\n",
              "\n",
              "  <svg xmlns=\"http://www.w3.org/2000/svg\" height=\"24px\" viewBox=\"0 -960 960 960\">\n",
              "    <path d=\"M120-120v-720h720v720H120Zm60-500h600v-160H180v160Zm220 220h160v-160H400v160Zm0 220h160v-160H400v160ZM180-400h160v-160H180v160Zm440 0h160v-160H620v160ZM180-180h160v-160H180v160Zm440 0h160v-160H620v160Z\"/>\n",
              "  </svg>\n",
              "    </button>\n",
              "\n",
              "  <style>\n",
              "    .colab-df-container {\n",
              "      display:flex;\n",
              "      gap: 12px;\n",
              "    }\n",
              "\n",
              "    .colab-df-convert {\n",
              "      background-color: #E8F0FE;\n",
              "      border: none;\n",
              "      border-radius: 50%;\n",
              "      cursor: pointer;\n",
              "      display: none;\n",
              "      fill: #1967D2;\n",
              "      height: 32px;\n",
              "      padding: 0 0 0 0;\n",
              "      width: 32px;\n",
              "    }\n",
              "\n",
              "    .colab-df-convert:hover {\n",
              "      background-color: #E2EBFA;\n",
              "      box-shadow: 0px 1px 2px rgba(60, 64, 67, 0.3), 0px 1px 3px 1px rgba(60, 64, 67, 0.15);\n",
              "      fill: #174EA6;\n",
              "    }\n",
              "\n",
              "    .colab-df-buttons div {\n",
              "      margin-bottom: 4px;\n",
              "    }\n",
              "\n",
              "    [theme=dark] .colab-df-convert {\n",
              "      background-color: #3B4455;\n",
              "      fill: #D2E3FC;\n",
              "    }\n",
              "\n",
              "    [theme=dark] .colab-df-convert:hover {\n",
              "      background-color: #434B5C;\n",
              "      box-shadow: 0px 1px 3px 1px rgba(0, 0, 0, 0.15);\n",
              "      filter: drop-shadow(0px 1px 2px rgba(0, 0, 0, 0.3));\n",
              "      fill: #FFFFFF;\n",
              "    }\n",
              "  </style>\n",
              "\n",
              "    <script>\n",
              "      const buttonEl =\n",
              "        document.querySelector('#df-e534063e-24e8-48de-88a3-0f16b138db5e button.colab-df-convert');\n",
              "      buttonEl.style.display =\n",
              "        google.colab.kernel.accessAllowed ? 'block' : 'none';\n",
              "\n",
              "      async function convertToInteractive(key) {\n",
              "        const element = document.querySelector('#df-e534063e-24e8-48de-88a3-0f16b138db5e');\n",
              "        const dataTable =\n",
              "          await google.colab.kernel.invokeFunction('convertToInteractive',\n",
              "                                                    [key], {});\n",
              "        if (!dataTable) return;\n",
              "\n",
              "        const docLinkHtml = 'Like what you see? Visit the ' +\n",
              "          '<a target=\"_blank\" href=https://colab.research.google.com/notebooks/data_table.ipynb>data table notebook</a>'\n",
              "          + ' to learn more about interactive tables.';\n",
              "        element.innerHTML = '';\n",
              "        dataTable['output_type'] = 'display_data';\n",
              "        await google.colab.output.renderOutput(dataTable, element);\n",
              "        const docLink = document.createElement('div');\n",
              "        docLink.innerHTML = docLinkHtml;\n",
              "        element.appendChild(docLink);\n",
              "      }\n",
              "    </script>\n",
              "  </div>\n",
              "\n",
              "\n",
              "<div id=\"df-9e2d70d6-72cf-4e56-9438-4aec7f6c7af5\">\n",
              "  <button class=\"colab-df-quickchart\" onclick=\"quickchart('df-9e2d70d6-72cf-4e56-9438-4aec7f6c7af5')\"\n",
              "            title=\"Suggest charts\"\n",
              "            style=\"display:none;\">\n",
              "\n",
              "<svg xmlns=\"http://www.w3.org/2000/svg\" height=\"24px\"viewBox=\"0 0 24 24\"\n",
              "     width=\"24px\">\n",
              "    <g>\n",
              "        <path d=\"M19 3H5c-1.1 0-2 .9-2 2v14c0 1.1.9 2 2 2h14c1.1 0 2-.9 2-2V5c0-1.1-.9-2-2-2zM9 17H7v-7h2v7zm4 0h-2V7h2v10zm4 0h-2v-4h2v4z\"/>\n",
              "    </g>\n",
              "</svg>\n",
              "  </button>\n",
              "\n",
              "<style>\n",
              "  .colab-df-quickchart {\n",
              "      --bg-color: #E8F0FE;\n",
              "      --fill-color: #1967D2;\n",
              "      --hover-bg-color: #E2EBFA;\n",
              "      --hover-fill-color: #174EA6;\n",
              "      --disabled-fill-color: #AAA;\n",
              "      --disabled-bg-color: #DDD;\n",
              "  }\n",
              "\n",
              "  [theme=dark] .colab-df-quickchart {\n",
              "      --bg-color: #3B4455;\n",
              "      --fill-color: #D2E3FC;\n",
              "      --hover-bg-color: #434B5C;\n",
              "      --hover-fill-color: #FFFFFF;\n",
              "      --disabled-bg-color: #3B4455;\n",
              "      --disabled-fill-color: #666;\n",
              "  }\n",
              "\n",
              "  .colab-df-quickchart {\n",
              "    background-color: var(--bg-color);\n",
              "    border: none;\n",
              "    border-radius: 50%;\n",
              "    cursor: pointer;\n",
              "    display: none;\n",
              "    fill: var(--fill-color);\n",
              "    height: 32px;\n",
              "    padding: 0;\n",
              "    width: 32px;\n",
              "  }\n",
              "\n",
              "  .colab-df-quickchart:hover {\n",
              "    background-color: var(--hover-bg-color);\n",
              "    box-shadow: 0 1px 2px rgba(60, 64, 67, 0.3), 0 1px 3px 1px rgba(60, 64, 67, 0.15);\n",
              "    fill: var(--button-hover-fill-color);\n",
              "  }\n",
              "\n",
              "  .colab-df-quickchart-complete:disabled,\n",
              "  .colab-df-quickchart-complete:disabled:hover {\n",
              "    background-color: var(--disabled-bg-color);\n",
              "    fill: var(--disabled-fill-color);\n",
              "    box-shadow: none;\n",
              "  }\n",
              "\n",
              "  .colab-df-spinner {\n",
              "    border: 2px solid var(--fill-color);\n",
              "    border-color: transparent;\n",
              "    border-bottom-color: var(--fill-color);\n",
              "    animation:\n",
              "      spin 1s steps(1) infinite;\n",
              "  }\n",
              "\n",
              "  @keyframes spin {\n",
              "    0% {\n",
              "      border-color: transparent;\n",
              "      border-bottom-color: var(--fill-color);\n",
              "      border-left-color: var(--fill-color);\n",
              "    }\n",
              "    20% {\n",
              "      border-color: transparent;\n",
              "      border-left-color: var(--fill-color);\n",
              "      border-top-color: var(--fill-color);\n",
              "    }\n",
              "    30% {\n",
              "      border-color: transparent;\n",
              "      border-left-color: var(--fill-color);\n",
              "      border-top-color: var(--fill-color);\n",
              "      border-right-color: var(--fill-color);\n",
              "    }\n",
              "    40% {\n",
              "      border-color: transparent;\n",
              "      border-right-color: var(--fill-color);\n",
              "      border-top-color: var(--fill-color);\n",
              "    }\n",
              "    60% {\n",
              "      border-color: transparent;\n",
              "      border-right-color: var(--fill-color);\n",
              "    }\n",
              "    80% {\n",
              "      border-color: transparent;\n",
              "      border-right-color: var(--fill-color);\n",
              "      border-bottom-color: var(--fill-color);\n",
              "    }\n",
              "    90% {\n",
              "      border-color: transparent;\n",
              "      border-bottom-color: var(--fill-color);\n",
              "    }\n",
              "  }\n",
              "</style>\n",
              "\n",
              "  <script>\n",
              "    async function quickchart(key) {\n",
              "      const quickchartButtonEl =\n",
              "        document.querySelector('#' + key + ' button');\n",
              "      quickchartButtonEl.disabled = true;  // To prevent multiple clicks.\n",
              "      quickchartButtonEl.classList.add('colab-df-spinner');\n",
              "      try {\n",
              "        const charts = await google.colab.kernel.invokeFunction(\n",
              "            'suggestCharts', [key], {});\n",
              "      } catch (error) {\n",
              "        console.error('Error during call to suggestCharts:', error);\n",
              "      }\n",
              "      quickchartButtonEl.classList.remove('colab-df-spinner');\n",
              "      quickchartButtonEl.classList.add('colab-df-quickchart-complete');\n",
              "    }\n",
              "    (() => {\n",
              "      let quickchartButtonEl =\n",
              "        document.querySelector('#df-9e2d70d6-72cf-4e56-9438-4aec7f6c7af5 button');\n",
              "      quickchartButtonEl.style.display =\n",
              "        google.colab.kernel.accessAllowed ? 'block' : 'none';\n",
              "    })();\n",
              "  </script>\n",
              "</div>\n",
              "\n",
              "    </div>\n",
              "  </div>\n"
            ],
            "text/plain": [
              "                                             reviews  stars        date  \\\n",
              "0  ✅ Trip Verified | As someone who flies relentl...    5.0  2024-09-02   \n",
              "1  ✅ Trip Verified |   Flew with British Airways ...    4.0  2024-09-01   \n",
              "2  ✅ Trip Verified |   Straightforward check in T...    2.0  2024-08-30   \n",
              "3  Not Verified | I am beyond upset and disgusted...    8.0  2024-08-28   \n",
              "4  ✅ Trip Verified |   I purchased round trip dir...    1.0  2024-08-28   \n",
              "\n",
              "          country  verified                                             corpus  \n",
              "0  United Kingdom      True  someone fly relentlessly british airway busine...  \n",
              "1  United Kingdom      True  flew british airway club europe saturday st au...  \n",
              "2  United Kingdom      True  straightforward check new site club check work...  \n",
              "3  United Kingdom     False  verified beyond upset disgusted disregard lack...  \n",
              "4       Hong Kong      True  purchased round trip direct flight business cl...  "
            ]
          },
          "execution_count": 3,
          "metadata": {},
          "output_type": "execute_result"
        }
      ],
      "source": [
        "df.head()"
      ],
      "id": "b845610d-a9f1-4c5b-bee2-b266bbbec205"
    },
    {
      "cell_type": "markdown",
      "metadata": {
        "id": "1578b805-ee2d-4fd0-a1a3-6c84ae39ca2c"
      },
      "source": [
        "#### What is the average overall rating given for British Airways?"
      ],
      "id": "1578b805-ee2d-4fd0-a1a3-6c84ae39ca2c"
    },
    {
      "cell_type": "code",
      "execution_count": null,
      "metadata": {
        "colab": {
          "base_uri": "https://localhost:8080/"
        },
        "id": "73b596d1-03ca-42bc-9236-24e26dda5fbb",
        "outputId": "ac10cad4-73e8-4881-d61c-15dd9e5cb04f"
      },
      "outputs": [
        {
          "data": {
            "text/plain": [
              "4.586098398169336"
            ]
          },
          "execution_count": 4,
          "metadata": {},
          "output_type": "execute_result"
        }
      ],
      "source": [
        "df.stars.mean()"
      ],
      "id": "73b596d1-03ca-42bc-9236-24e26dda5fbb"
    },
    {
      "cell_type": "markdown",
      "metadata": {
        "id": "7668b05d-0755-4d26-b9f0-72c4c2489c43"
      },
      "source": [
        "#### What is the total counts for each ratings?\n"
      ],
      "id": "7668b05d-0755-4d26-b9f0-72c4c2489c43"
    },
    {
      "cell_type": "code",
      "execution_count": null,
      "metadata": {
        "colab": {
          "base_uri": "https://localhost:8080/",
          "height": 531
        },
        "id": "dc80012a-d50a-46e1-a58d-e07a354bad5f",
        "outputId": "57fe2e84-a64b-4723-8057-85410b000ae2"
      },
      "outputs": [
        {
          "data": {
            "text/plain": [
              "Text(0.5, 0.98, 'Counts for each ratings')"
            ]
          },
          "execution_count": 5,
          "metadata": {},
          "output_type": "execute_result"
        },
        {
          "data": {
            "image/png": "[encoded data removed]",
            "text/plain": [
              "<Figure size 640x480 with 1 Axes>"
            ]
          },
          "metadata": {},
          "output_type": "display_data"
        }
      ],
      "source": [
        "df.stars.value_counts().plot(kind=\"bar\")\n",
        "plt.xlabel(\"Ratings\")\n",
        "plt.ylabel(\"Total Number of reviews with that rating\")\n",
        "plt.suptitle(\"Counts for each ratings\")"
      ],
      "id": "dc80012a-d50a-46e1-a58d-e07a354bad5f"
    },
    {
      "cell_type": "code",
      "execution_count": null,
      "metadata": {
        "id": "VdOYRUbqoHtg"
      },
      "outputs": [],
      "source": [
        "df_ratings = pd.DataFrame(df.stars.value_counts())\n",
        "# the column name is 'count' not 'stars'\n",
        "pct_values = (df_ratings['count'].values/ df_ratings['count'].values.sum() *100).tolist()\n",
        "pct_values = [round(x,2) for x in pct_values]\n",
        "df_ratings['pct_values'] = pct_values\n",
        "df_ratings.index.name = 'stars'\n",
        "df_ratings.reset_index(inplace=True)"
      ],
      "id": "VdOYRUbqoHtg"
    },
    {
      "cell_type": "code",
      "execution_count": null,
      "metadata": {
        "id": "ec546a3a-087c-4bb9-80e8-a213c5d782b8"
      },
      "outputs": [],
      "source": [
        "#resetting index as we do not want to confuse between the index and the rating values\n",
        "df_ratings = df_ratings.reset_index()"
      ],
      "id": "ec546a3a-087c-4bb9-80e8-a213c5d782b8"
    },
    {
      "cell_type": "code",
      "execution_count": null,
      "metadata": {
        "id": "974cf053-051e-46e7-bc21-ac89d081e631"
      },
      "outputs": [],
      "source": [
        "# renaming columns\n",
        "df_ratings.rename(columns={'index':'Stars', 'stars':'total_counts',}, inplace=True)"
      ],
      "id": "974cf053-051e-46e7-bc21-ac89d081e631"
    },
    {
      "cell_type": "code",
      "execution_count": null,
      "metadata": {
        "colab": {
          "base_uri": "https://localhost:8080/",
          "height": 363
        },
        "id": "e4f9e3a4-cfac-4101-9a5e-e8d891e15f5c",
        "outputId": "6bb20699-4bb9-442a-97d1-3d74267626e5"
      },
      "outputs": [
        {
          "data": {
            "application/vnd.google.colaboratory.intrinsic+json": {
              "summary": "{\n  \"name\": \"df_ratings\",\n  \"rows\": 10,\n  \"fields\": [\n    {\n      \"column\": \"Stars\",\n      \"properties\": {\n        \"dtype\": \"number\",\n        \"std\": 3,\n        \"min\": 0,\n        \"max\": 9,\n        \"num_unique_values\": 10,\n        \"samples\": [\n          8,\n          1,\n          5\n        ],\n        \"semantic_type\": \"\",\n        \"description\": \"\"\n      }\n    },\n    {\n      \"column\": \"total_counts\",\n      \"properties\": {\n        \"dtype\": \"number\",\n        \"std\": 3.0276503540974917,\n        \"min\": 1.0,\n        \"max\": 10.0,\n        \"num_unique_values\": 10,\n        \"samples\": [\n          4.0,\n          2.0,\n          7.0\n        ],\n        \"semantic_type\": \"\",\n        \"description\": \"\"\n      }\n    },\n    {\n      \"column\": \"count\",\n      \"properties\": {\n        \"dtype\": \"number\",\n        \"std\": 194,\n        \"min\": 172,\n        \"max\": 863,\n        \"num_unique_values\": 10,\n        \"samples\": [\n          235,\n          408,\n          274\n        ],\n        \"semantic_type\": \"\",\n        \"description\": \"\"\n      }\n    },\n    {\n      \"column\": \"pct_values\",\n      \"properties\": {\n        \"dtype\": \"number\",\n        \"std\": 5.563005682382702,\n        \"min\": 4.92,\n        \"max\": 24.69,\n        \"num_unique_values\": 10,\n        \"samples\": [\n          6.72,\n          11.67,\n          7.84\n        ],\n        \"semantic_type\": \"\",\n        \"description\": \"\"\n      }\n    }\n  ]\n}",
              "type": "dataframe",
              "variable_name": "df_ratings"
            },
            "text/html": [
              "\n",
              "  <div id=\"df-5219a0e1-2014-478c-9f59-04d8b0eedc9a\" class=\"colab-df-container\">\n",
              "    <div>\n",
              "<style scoped>\n",
              "    .dataframe tbody tr th:only-of-type {\n",
              "        vertical-align: middle;\n",
              "    }\n",
              "\n",
              "    .dataframe tbody tr th {\n",
              "        vertical-align: top;\n",
              "    }\n",
              "\n",
              "    .dataframe thead th {\n",
              "        text-align: right;\n",
              "    }\n",
              "</style>\n",
              "<table border=\"1\" class=\"dataframe\">\n",
              "  <thead>\n",
              "    <tr style=\"text-align: right;\">\n",
              "      <th></th>\n",
              "      <th>Stars</th>\n",
              "      <th>total_counts</th>\n",
              "      <th>count</th>\n",
              "      <th>pct_values</th>\n",
              "    </tr>\n",
              "  </thead>\n",
              "  <tbody>\n",
              "    <tr>\n",
              "      <th>0</th>\n",
              "      <td>0</td>\n",
              "      <td>1.0</td>\n",
              "      <td>863</td>\n",
              "      <td>24.69</td>\n",
              "    </tr>\n",
              "    <tr>\n",
              "      <th>1</th>\n",
              "      <td>1</td>\n",
              "      <td>2.0</td>\n",
              "      <td>408</td>\n",
              "      <td>11.67</td>\n",
              "    </tr>\n",
              "    <tr>\n",
              "      <th>2</th>\n",
              "      <td>2</td>\n",
              "      <td>3.0</td>\n",
              "      <td>399</td>\n",
              "      <td>11.41</td>\n",
              "    </tr>\n",
              "    <tr>\n",
              "      <th>3</th>\n",
              "      <td>3</td>\n",
              "      <td>8.0</td>\n",
              "      <td>338</td>\n",
              "      <td>9.67</td>\n",
              "    </tr>\n",
              "    <tr>\n",
              "      <th>4</th>\n",
              "      <td>4</td>\n",
              "      <td>10.0</td>\n",
              "      <td>288</td>\n",
              "      <td>8.24</td>\n",
              "    </tr>\n",
              "    <tr>\n",
              "      <th>5</th>\n",
              "      <td>5</td>\n",
              "      <td>7.0</td>\n",
              "      <td>274</td>\n",
              "      <td>7.84</td>\n",
              "    </tr>\n",
              "    <tr>\n",
              "      <th>6</th>\n",
              "      <td>6</td>\n",
              "      <td>9.0</td>\n",
              "      <td>272</td>\n",
              "      <td>7.78</td>\n",
              "    </tr>\n",
              "    <tr>\n",
              "      <th>7</th>\n",
              "      <td>7</td>\n",
              "      <td>5.0</td>\n",
              "      <td>247</td>\n",
              "      <td>7.07</td>\n",
              "    </tr>\n",
              "    <tr>\n",
              "      <th>8</th>\n",
              "      <td>8</td>\n",
              "      <td>4.0</td>\n",
              "      <td>235</td>\n",
              "      <td>6.72</td>\n",
              "    </tr>\n",
              "    <tr>\n",
              "      <th>9</th>\n",
              "      <td>9</td>\n",
              "      <td>6.0</td>\n",
              "      <td>172</td>\n",
              "      <td>4.92</td>\n",
              "    </tr>\n",
              "  </tbody>\n",
              "</table>\n",
              "</div>\n",
              "    <div class=\"colab-df-buttons\">\n",
              "\n",
              "  <div class=\"colab-df-container\">\n",
              "    <button class=\"colab-df-convert\" onclick=\"convertToInteractive('df-5219a0e1-2014-478c-9f59-04d8b0eedc9a')\"\n",
              "            title=\"Convert this dataframe to an interactive table.\"\n",
              "            style=\"display:none;\">\n",
              "\n",
              "  <svg xmlns=\"http://www.w3.org/2000/svg\" height=\"24px\" viewBox=\"0 -960 960 960\">\n",
              "    <path d=\"M120-120v-720h720v720H120Zm60-500h600v-160H180v160Zm220 220h160v-160H400v160Zm0 220h160v-160H400v160ZM180-400h160v-160H180v160Zm440 0h160v-160H620v160ZM180-180h160v-160H180v160Zm440 0h160v-160H620v160Z\"/>\n",
              "  </svg>\n",
              "    </button>\n",
              "\n",
              "  <style>\n",
              "    .colab-df-container {\n",
              "      display:flex;\n",
              "      gap: 12px;\n",
              "    }\n",
              "\n",
              "    .colab-df-convert {\n",
              "      background-color: #E8F0FE;\n",
              "      border: none;\n",
              "      border-radius: 50%;\n",
              "      cursor: pointer;\n",
              "      display: none;\n",
              "      fill: #1967D2;\n",
              "      height: 32px;\n",
              "      padding: 0 0 0 0;\n",
              "      width: 32px;\n",
              "    }\n",
              "\n",
              "    .colab-df-convert:hover {\n",
              "      background-color: #E2EBFA;\n",
              "      box-shadow: 0px 1px 2px rgba(60, 64, 67, 0.3), 0px 1px 3px 1px rgba(60, 64, 67, 0.15);\n",
              "      fill: #174EA6;\n",
              "    }\n",
              "\n",
              "    .colab-df-buttons div {\n",
              "      margin-bottom: 4px;\n",
              "    }\n",
              "\n",
              "    [theme=dark] .colab-df-convert {\n",
              "      background-color: #3B4455;\n",
              "      fill: #D2E3FC;\n",
              "    }\n",
              "\n",
              "    [theme=dark] .colab-df-convert:hover {\n",
              "      background-color: #434B5C;\n",
              "      box-shadow: 0px 1px 3px 1px rgba(0, 0, 0, 0.15);\n",
              "      filter: drop-shadow(0px 1px 2px rgba(0, 0, 0, 0.3));\n",
              "      fill: #FFFFFF;\n",
              "    }\n",
              "  </style>\n",
              "\n",
              "    <script>\n",
              "      const buttonEl =\n",
              "        document.querySelector('#df-5219a0e1-2014-478c-9f59-04d8b0eedc9a button.colab-df-convert');\n",
              "      buttonEl.style.display =\n",
              "        google.colab.kernel.accessAllowed ? 'block' : 'none';\n",
              "\n",
              "      async function convertToInteractive(key) {\n",
              "        const element = document.querySelector('#df-5219a0e1-2014-478c-9f59-04d8b0eedc9a');\n",
              "        const dataTable =\n",
              "          await google.colab.kernel.invokeFunction('convertToInteractive',\n",
              "                                                    [key], {});\n",
              "        if (!dataTable) return;\n",
              "\n",
              "        const docLinkHtml = 'Like what you see? Visit the ' +\n",
              "          '<a target=\"_blank\" href=https://colab.research.google.com/notebooks/data_table.ipynb>data table notebook</a>'\n",
              "          + ' to learn more about interactive tables.';\n",
              "        element.innerHTML = '';\n",
              "        dataTable['output_type'] = 'display_data';\n",
              "        await google.colab.output.renderOutput(dataTable, element);\n",
              "        const docLink = document.createElement('div');\n",
              "        docLink.innerHTML = docLinkHtml;\n",
              "        element.appendChild(docLink);\n",
              "      }\n",
              "    </script>\n",
              "  </div>\n",
              "\n",
              "\n",
              "<div id=\"df-f115251b-f7a3-42b1-94d1-c7a3ba87528c\">\n",
              "  <button class=\"colab-df-quickchart\" onclick=\"quickchart('df-f115251b-f7a3-42b1-94d1-c7a3ba87528c')\"\n",
              "            title=\"Suggest charts\"\n",
              "            style=\"display:none;\">\n",
              "\n",
              "<svg xmlns=\"http://www.w3.org/2000/svg\" height=\"24px\"viewBox=\"0 0 24 24\"\n",
              "     width=\"24px\">\n",
              "    <g>\n",
              "        <path d=\"M19 3H5c-1.1 0-2 .9-2 2v14c0 1.1.9 2 2 2h14c1.1 0 2-.9 2-2V5c0-1.1-.9-2-2-2zM9 17H7v-7h2v7zm4 0h-2V7h2v10zm4 0h-2v-4h2v4z\"/>\n",
              "    </g>\n",
              "</svg>\n",
              "  </button>\n",
              "\n",
              "<style>\n",
              "  .colab-df-quickchart {\n",
              "      --bg-color: #E8F0FE;\n",
              "      --fill-color: #1967D2;\n",
              "      --hover-bg-color: #E2EBFA;\n",
              "      --hover-fill-color: #174EA6;\n",
              "      --disabled-fill-color: #AAA;\n",
              "      --disabled-bg-color: #DDD;\n",
              "  }\n",
              "\n",
              "  [theme=dark] .colab-df-quickchart {\n",
              "      --bg-color: #3B4455;\n",
              "      --fill-color: #D2E3FC;\n",
              "      --hover-bg-color: #434B5C;\n",
              "      --hover-fill-color: #FFFFFF;\n",
              "      --disabled-bg-color: #3B4455;\n",
              "      --disabled-fill-color: #666;\n",
              "  }\n",
              "\n",
              "  .colab-df-quickchart {\n",
              "    background-color: var(--bg-color);\n",
              "    border: none;\n",
              "    border-radius: 50%;\n",
              "    cursor: pointer;\n",
              "    display: none;\n",
              "    fill: var(--fill-color);\n",
              "    height: 32px;\n",
              "    padding: 0;\n",
              "    width: 32px;\n",
              "  }\n",
              "\n",
              "  .colab-df-quickchart:hover {\n",
              "    background-color: var(--hover-bg-color);\n",
              "    box-shadow: 0 1px 2px rgba(60, 64, 67, 0.3), 0 1px 3px 1px rgba(60, 64, 67, 0.15);\n",
              "    fill: var(--button-hover-fill-color);\n",
              "  }\n",
              "\n",
              "  .colab-df-quickchart-complete:disabled,\n",
              "  .colab-df-quickchart-complete:disabled:hover {\n",
              "    background-color: var(--disabled-bg-color);\n",
              "    fill: var(--disabled-fill-color);\n",
              "    box-shadow: none;\n",
              "  }\n",
              "\n",
              "  .colab-df-spinner {\n",
              "    border: 2px solid var(--fill-color);\n",
              "    border-color: transparent;\n",
              "    border-bottom-color: var(--fill-color);\n",
              "    animation:\n",
              "      spin 1s steps(1) infinite;\n",
              "  }\n",
              "\n",
              "  @keyframes spin {\n",
              "    0% {\n",
              "      border-color: transparent;\n",
              "      border-bottom-color: var(--fill-color);\n",
              "      border-left-color: var(--fill-color);\n",
              "    }\n",
              "    20% {\n",
              "      border-color: transparent;\n",
              "      border-left-color: var(--fill-color);\n",
              "      border-top-color: var(--fill-color);\n",
              "    }\n",
              "    30% {\n",
              "      border-color: transparent;\n",
              "      border-left-color: var(--fill-color);\n",
              "      border-top-color: var(--fill-color);\n",
              "      border-right-color: var(--fill-color);\n",
              "    }\n",
              "    40% {\n",
              "      border-color: transparent;\n",
              "      border-right-color: var(--fill-color);\n",
              "      border-top-color: var(--fill-color);\n",
              "    }\n",
              "    60% {\n",
              "      border-color: transparent;\n",
              "      border-right-color: var(--fill-color);\n",
              "    }\n",
              "    80% {\n",
              "      border-color: transparent;\n",
              "      border-right-color: var(--fill-color);\n",
              "      border-bottom-color: var(--fill-color);\n",
              "    }\n",
              "    90% {\n",
              "      border-color: transparent;\n",
              "      border-bottom-color: var(--fill-color);\n",
              "    }\n",
              "  }\n",
              "</style>\n",
              "\n",
              "  <script>\n",
              "    async function quickchart(key) {\n",
              "      const quickchartButtonEl =\n",
              "        document.querySelector('#' + key + ' button');\n",
              "      quickchartButtonEl.disabled = true;  // To prevent multiple clicks.\n",
              "      quickchartButtonEl.classList.add('colab-df-spinner');\n",
              "      try {\n",
              "        const charts = await google.colab.kernel.invokeFunction(\n",
              "            'suggestCharts', [key], {});\n",
              "      } catch (error) {\n",
              "        console.error('Error during call to suggestCharts:', error);\n",
              "      }\n",
              "      quickchartButtonEl.classList.remove('colab-df-spinner');\n",
              "      quickchartButtonEl.classList.add('colab-df-quickchart-complete');\n",
              "    }\n",
              "    (() => {\n",
              "      let quickchartButtonEl =\n",
              "        document.querySelector('#df-f115251b-f7a3-42b1-94d1-c7a3ba87528c button');\n",
              "      quickchartButtonEl.style.display =\n",
              "        google.colab.kernel.accessAllowed ? 'block' : 'none';\n",
              "    })();\n",
              "  </script>\n",
              "</div>\n",
              "\n",
              "  <div id=\"id_c438b414-e232-4ea1-9602-41d3ceb6e99f\">\n",
              "    <style>\n",
              "      .colab-df-generate {\n",
              "        background-color: #E8F0FE;\n",
              "        border: none;\n",
              "        border-radius: 50%;\n",
              "        cursor: pointer;\n",
              "        display: none;\n",
              "        fill: #1967D2;\n",
              "        height: 32px;\n",
              "        padding: 0 0 0 0;\n",
              "        width: 32px;\n",
              "      }\n",
              "\n",
              "      .colab-df-generate:hover {\n",
              "        background-color: #E2EBFA;\n",
              "        box-shadow: 0px 1px 2px rgba(60, 64, 67, 0.3), 0px 1px 3px 1px rgba(60, 64, 67, 0.15);\n",
              "        fill: #174EA6;\n",
              "      }\n",
              "\n",
              "      [theme=dark] .colab-df-generate {\n",
              "        background-color: #3B4455;\n",
              "        fill: #D2E3FC;\n",
              "      }\n",
              "\n",
              "      [theme=dark] .colab-df-generate:hover {\n",
              "        background-color: #434B5C;\n",
              "        box-shadow: 0px 1px 3px 1px rgba(0, 0, 0, 0.15);\n",
              "        filter: drop-shadow(0px 1px 2px rgba(0, 0, 0, 0.3));\n",
              "        fill: #FFFFFF;\n",
              "      }\n",
              "    </style>\n",
              "    <button class=\"colab-df-generate\" onclick=\"generateWithVariable('df_ratings')\"\n",
              "            title=\"Generate code using this dataframe.\"\n",
              "            style=\"display:none;\">\n",
              "\n",
              "  <svg xmlns=\"http://www.w3.org/2000/svg\" height=\"24px\"viewBox=\"0 0 24 24\"\n",
              "       width=\"24px\">\n",
              "    <path d=\"M7,19H8.4L18.45,9,17,7.55,7,17.6ZM5,21V16.75L18.45,3.32a2,2,0,0,1,2.83,0l1.4,1.43a1.91,1.91,0,0,1,.58,1.4,1.91,1.91,0,0,1-.58,1.4L9.25,21ZM18.45,9,17,7.55Zm-12,3A5.31,5.31,0,0,0,4.9,8.1,5.31,5.31,0,0,0,1,6.5,5.31,5.31,0,0,0,4.9,4.9,5.31,5.31,0,0,0,6.5,1,5.31,5.31,0,0,0,8.1,4.9,5.31,5.31,0,0,0,12,6.5,5.46,5.46,0,0,0,6.5,12Z\"/>\n",
              "  </svg>\n",
              "    </button>\n",
              "    <script>\n",
              "      (() => {\n",
              "      const buttonEl =\n",
              "        document.querySelector('#id_c438b414-e232-4ea1-9602-41d3ceb6e99f button.colab-df-generate');\n",
              "      buttonEl.style.display =\n",
              "        google.colab.kernel.accessAllowed ? 'block' : 'none';\n",
              "\n",
              "      buttonEl.onclick = () => {\n",
              "        google.colab.notebook.generateWithVariable('df_ratings');\n",
              "      }\n",
              "      })();\n",
              "    </script>\n",
              "  </div>\n",
              "\n",
              "    </div>\n",
              "  </div>\n"
            ],
            "text/plain": [
              "   Stars  total_counts  count  pct_values\n",
              "0      0           1.0    863       24.69\n",
              "1      1           2.0    408       11.67\n",
              "2      2           3.0    399       11.41\n",
              "3      3           8.0    338        9.67\n",
              "4      4          10.0    288        8.24\n",
              "5      5           7.0    274        7.84\n",
              "6      6           9.0    272        7.78\n",
              "7      7           5.0    247        7.07\n",
              "8      8           4.0    235        6.72\n",
              "9      9           6.0    172        4.92"
            ]
          },
          "execution_count": 22,
          "metadata": {},
          "output_type": "execute_result"
        }
      ],
      "source": [
        "df_ratings"
      ],
      "id": "e4f9e3a4-cfac-4101-9a5e-e8d891e15f5c"
    },
    {
      "cell_type": "code",
      "execution_count": null,
      "metadata": {
        "colab": {
          "base_uri": "https://localhost:8080/",
          "height": 683
        },
        "id": "011893c2-4f04-4de7-bd29-7c2a79a18790",
        "outputId": "8384c630-dbeb-4c6d-9056-4d01c90a1cdf"
      },
      "outputs": [
        {
          "name": "stderr",
          "output_type": "stream",
          "text": [
            "<ipython-input-23-4c86a9bb910a>:2: FutureWarning: \n",
            "\n",
            "Passing `palette` without assigning `hue` is deprecated and will be removed in v0.14.0. Assign the `x` variable to `hue` and set `legend=False` for the same effect.\n",
            "\n",
            "  ax = sns.barplot(x=df_ratings.Stars, y=df_ratings.total_counts, data=df_ratings, errwidth=0,\n",
            "<ipython-input-23-4c86a9bb910a>:2: FutureWarning: \n",
            "\n",
            "The `errwidth` parameter is deprecated. And will be removed in v0.15.0. Pass `err_kws={'linewidth': 0}` instead.\n",
            "\n",
            "  ax = sns.barplot(x=df_ratings.Stars, y=df_ratings.total_counts, data=df_ratings, errwidth=0,\n"
          ]
        },
        {
          "data": {
            "text/plain": [
              "Text(0.5, 1.0, 'Counts for each ratings')"
            ]
          },
          "execution_count": 23,
          "metadata": {},
          "output_type": "execute_result"
        },
        {
          "data": {
            "image/png": "[encoded data removed]",
            "text/plain": [
              "<Figure size 640x480 with 1 Axes>"
            ]
          },
          "metadata": {},
          "output_type": "display_data"
        }
      ],
      "source": [
        "\n",
        "clrs = ['Red' if (x ==  max(df_ratings.total_counts)) else 'grey' for x in df_ratings.total_counts ]\n",
        "ax = sns.barplot(x=df_ratings.Stars, y=df_ratings.total_counts, data=df_ratings, errwidth=0,\n",
        "                palette=clrs)\n",
        "\n",
        "\n",
        "ax.bar_label(ax.containers[0])\n",
        "\n",
        "ax.set_xlabel(\"Ratings\")\n",
        "ax.set_ylabel(\"Total Number of reviews with that rating\")\n",
        "ax.set_title(\"Counts for each ratings\")\n"
      ],
      "id": "011893c2-4f04-4de7-bd29-7c2a79a18790"
    },
    {
      "cell_type": "code",
      "execution_count": null,
      "metadata": {
        "colab": {
          "base_uri": "https://localhost:8080/"
        },
        "id": "dec25a2a-8d81-4faf-9bae-102630d4fda2",
        "outputId": "6e9dcc04-6036-49c6-f2ee-4627de916e81"
      },
      "outputs": [
        {
          "name": "stdout",
          "output_type": "stream",
          "text": [
            "70 unique countries\n"
          ]
        }
      ],
      "source": [
        "# Unique countries BA recieved the reviews from\n",
        "\n",
        "print(f\"{len(df.country.unique())} unique countries\")"
      ],
      "id": "dec25a2a-8d81-4faf-9bae-102630d4fda2"
    },
    {
      "cell_type": "markdown",
      "metadata": {
        "id": "4af2b5fd-97df-4cf2-83e8-1ef39e95f51b"
      },
      "source": [
        "#### Which country most review comes from?  "
      ],
      "id": "4af2b5fd-97df-4cf2-83e8-1ef39e95f51b"
    },
    {
      "cell_type": "code",
      "execution_count": null,
      "metadata": {
        "id": "d4874412-596d-4d52-bf99-6df7b1f64113"
      },
      "outputs": [],
      "source": [
        "df_country_review = pd.DataFrame(df.country.value_counts().head()).reset_index()"
      ],
      "id": "d4874412-596d-4d52-bf99-6df7b1f64113"
    },
    {
      "cell_type": "code",
      "execution_count": null,
      "metadata": {
        "id": "08749eb0-c9fe-43c0-ab29-ab78e9bb8ee7"
      },
      "outputs": [],
      "source": [
        "df_country_review.rename(columns={'index':'country','total_reviews':'country'}, inplace=True)\n"
      ],
      "id": "08749eb0-c9fe-43c0-ab29-ab78e9bb8ee7"
    },
    {
      "cell_type": "code",
      "execution_count": null,
      "metadata": {
        "colab": {
          "base_uri": "https://localhost:8080/",
          "height": 586
        },
        "id": "def8c9ad-ee0c-428d-89c9-f96357515595",
        "outputId": "14e13e7f-14f0-4bfe-a576-ca601469e263"
      },
      "outputs": [
        {
          "data": {
            "text/plain": [
              "Text(0.5, 1.0, 'Maximum number of review by country')"
            ]
          },
          "execution_count": 37,
          "metadata": {},
          "output_type": "execute_result"
        },
        {
          "data": {
            "image/png": "[encoded data removed]",
            "text/plain": [
              "<Figure size 640x480 with 1 Axes>"
            ]
          },
          "metadata": {},
          "output_type": "display_data"
        }
      ],
      "source": [
        "df_country_review.plot(kind=\"bar\", x='country')\n",
        "plt.title(\"Maximum number of review by country\")"
      ],
      "id": "def8c9ad-ee0c-428d-89c9-f96357515595"
    },
    {
      "cell_type": "markdown",
      "metadata": {
        "id": "3a91738f-f970-4048-9a54-82f37640a23d"
      },
      "source": [
        "#### Which country provided on average highest ratings?"
      ],
      "id": "3a91738f-f970-4048-9a54-82f37640a23d"
    },
    {
      "cell_type": "code",
      "execution_count": null,
      "metadata": {
        "id": "NFsH8pCAvZha"
      },
      "outputs": [],
      "source": [
        "df_country_rating = pd.DataFrame(df.groupby('country')['stars'].mean().sort_values(ascending=False)).reset_index()"
      ],
      "id": "NFsH8pCAvZha"
    },
    {
      "cell_type": "code",
      "execution_count": null,
      "metadata": {
        "id": "ca776035-1740-4487-9409-c60791c7cab6"
      },
      "outputs": [],
      "source": [
        "df_country_rating.rename(columns={'stars':'avg_rating'}, inplace=True)\n"
      ],
      "id": "ca776035-1740-4487-9409-c60791c7cab6"
    },
    {
      "cell_type": "code",
      "execution_count": null,
      "metadata": {
        "colab": {
          "base_uri": "https://localhost:8080/",
          "height": 254
        },
        "id": "73ef592f-93c8-44ed-b981-e643c47bd6aa",
        "outputId": "fcaa1dad-13fd-4d8d-9914-62179cf5489d"
      },
      "outputs": [
        {
          "data": {
            "text/plain": [
              "Text(0.5, 1.0, 'Top 12 Countries with avg highest rating provided to British Airways')"
            ]
          },
          "execution_count": 41,
          "metadata": {},
          "output_type": "execute_result"
        },
        {
          "data": {
            "image/png": "[encoded data removed]",
            "text/plain": [
              "<Figure size 1800x500 with 1 Axes>"
            ]
          },
          "metadata": {},
          "output_type": "display_data"
        }
      ],
      "source": [
        "fig, ax = plt.subplots(figsize=(18,5))\n",
        "ax1 = sns.barplot(x='country', y='avg_rating', data=df_country_rating[:12])\n",
        "ax.bar_label(ax.containers[0])\n",
        "ax.set_title(\"Top 12 Countries with avg highest rating provided to British Airways\")"
      ],
      "id": "73ef592f-93c8-44ed-b981-e643c47bd6aa"
    },
    {
      "cell_type": "markdown",
      "metadata": {
        "id": "2ffd9527-8846-4d55-9690-9050399006ca"
      },
      "source": [
        "## Word Frequency"
      ],
      "id": "2ffd9527-8846-4d55-9690-9050399006ca"
    },
    {
      "cell_type": "code",
      "execution_count": null,
      "metadata": {
        "colab": {
          "base_uri": "https://localhost:8080/"
        },
        "id": "QUnRFXfgzBI_",
        "outputId": "ddf6d79c-131d-49ab-e934-c1c8d459c50b"
      },
      "outputs": [
        {
          "name": "stdout",
          "output_type": "stream",
          "text": [
            "Requirement already satisfied: pandas in /usr/local/lib/python3.10/dist-packages (2.1.4)\n",
            "Requirement already satisfied: numpy<2,>=1.22.4 in /usr/local/lib/python3.10/dist-packages (from pandas) (1.26.4)\n",
            "Requirement already satisfied: python-dateutil>=2.8.2 in /usr/local/lib/python3.10/dist-packages (from pandas) (2.8.2)\n",
            "Requirement already satisfied: pytz>=2020.1 in /usr/local/lib/python3.10/dist-packages (from pandas) (2024.1)\n",
            "Requirement already satisfied: tzdata>=2022.1 in /usr/local/lib/python3.10/dist-packages (from pandas) (2024.1)\n",
            "Requirement already satisfied: six>=1.5 in /usr/local/lib/python3.10/dist-packages (from python-dateutil>=2.8.2->pandas) (1.16.0)\n"
          ]
        }
      ],
      "source": [
        "!pip install pandas\n",
        "import pandas as pd\n",
        "\n",
        "# Replace 'your_file.csv' with the actual name of your CSV file\n",
        "df1 = df\n",
        "reviews = df['corpus']\n",
        "df1['reviews'] = df['reviews'].str.replace('|,The,BA,[],verfied,British,.,-','', regex=False) ## Setting figure, ax into variables )\n",
        "reviews1 = df1 ['reviews']\n",
        "# Now you can access the 'text' column (assuming it exists in your CSV)\n",
        "#reviews = df['reviews']"
      ],
      "id": "QUnRFXfgzBI_"
    },
    {
      "cell_type": "code",
      "execution_count": null,
      "metadata": {
        "id": "f_7F4EXvACg2"
      },
      "outputs": [],
      "source": [
        "from nltk import ngrams\n",
        "from nltk.probability import FreqDist\n",
        "\n",
        "from sklearn.feature_extraction import text\n",
        "from sklearn.feature_extraction.text import TfidfVectorizer\n",
        "\n",
        "# Assuming reviews1 is a Pandas Series\n",
        "reviews = reviews1 # Use the reviews1 variable directly\n",
        "\n",
        "#split the text of all reviews into a list of words\n",
        "words = reviews.str.cat(sep=' ').split()\n",
        "\n",
        "#remove certain words that will not be used to determine the positive or negative sentiment\n",
        "stopwords = text.ENGLISH_STOP_WORDS.union(['flight', 'ba', \"passenger\",\"u\", \"london\",\"airway\",\"british\",\"airline\",\\\n",
        "                                           \"heathrow\",\"plane\",\"lhr\",\"review\"])\n",
        "\n",
        "\n",
        "new_words = [word for word in words if word not in stopwords]\n",
        "\n",
        "nlp_words=FreqDist(new_words).most_common(20)\n",
        "\n",
        "#create a dataframe of these word and its frequencies\n",
        "all_fdist = pd.Series(dict(nlp_words))"
      ],
      "id": "f_7F4EXvACg2"
    },
    {
      "cell_type": "code",
      "execution_count": null,
      "metadata": {
        "colab": {
          "base_uri": "https://localhost:8080/",
          "height": 1000
        },
        "id": "e8e39f5c-c92c-4229-bf08-8a4ef30378ec",
        "outputId": "5a33272e-c1be-4597-e850-f7e1bd01cb51"
      },
      "outputs": [
        {
          "data": {
            "text/plain": [
              "([0, 1, 2, 3, 4, 5, 6, 7, 8, 9, 10, 11, 12, 13, 14, 15, 16, 17, 18, 19],\n",
              " [Text(0, 0, 'I'),\n",
              "  Text(1, 0, 'The'),\n",
              "  Text(2, 0, 'BA'),\n",
              "  Text(3, 0, '|'),\n",
              "  Text(4, 0, 'Verified'),\n",
              "  Text(5, 0, 'British'),\n",
              "  Text(6, 0, '-'),\n",
              "  Text(7, 0, '✅'),\n",
              "  Text(8, 0, 'service'),\n",
              "  Text(9, 0, 'London'),\n",
              "  Text(10, 0, 'seat'),\n",
              "  Text(11, 0, 'crew'),\n",
              "  Text(12, 0, 'Airways'),\n",
              "  Text(13, 0, 'food'),\n",
              "  Text(14, 0, 'seats'),\n",
              "  Text(15, 0, 'time'),\n",
              "  Text(16, 0, 'cabin'),\n",
              "  Text(17, 0, 'good'),\n",
              "  Text(18, 0, 'Trip'),\n",
              "  Text(19, 0, 'staff')])"
            ]
          },
          "execution_count": 85,
          "metadata": {},
          "output_type": "execute_result"
        },
        {
          "name": "stderr",
          "output_type": "stream",
          "text": [
            "/usr/local/lib/python3.10/dist-packages/IPython/core/events.py:89: UserWarning:\n",
            "\n",
            "Glyph 9989 (\\N{WHITE HEAVY CHECK MARK}) missing from current font.\n",
            "\n",
            "/usr/local/lib/python3.10/dist-packages/IPython/core/pylabtools.py:151: UserWarning:\n",
            "\n",
            "Glyph 9989 (\\N{WHITE HEAVY CHECK MARK}) missing from current font.\n",
            "\n"
          ]
        },
        {
          "data": {
            "image/png": "[encoded data removed]",
            "text/plain": [
              "<Figure size 1100x800 with 1 Axes>"
            ]
          },
          "metadata": {},
          "output_type": "display_data"
        }
      ],
      "source": [
        "fig, ax = plt.subplots(figsize=(11,8))\n",
        "\n",
        "## Seaborn plotting using Pandas attributes + xtick rotation for ease of viewing\n",
        "all_plot = sns.barplot(x=all_fdist.index, y=all_fdist.values, ax=ax)\n",
        "all_plot.bar_label(all_plot.containers[0])\n",
        "plt.xticks(rotation=30)"
      ],
      "id": "e8e39f5c-c92c-4229-bf08-8a4ef30378ec"
    },
    {
      "cell_type": "markdown",
      "metadata": {
        "id": "89d2aebd-c9f4-42d3-bfb7-f7a8fb7b3bc7"
      },
      "source": [
        "This gives us a glimpse of what customers are really talking about here. We see that Service is most talked about the airline followed by \"Seat\" and \"Crew\" which are all very important to customers in terms of service."
      ],
      "id": "89d2aebd-c9f4-42d3-bfb7-f7a8fb7b3bc7"
    },
    {
      "cell_type": "code",
      "execution_count": null,
      "id": "4f9bad2f-721b-445a-86f9-bc9e16c177ce",
      "metadata": {
        "id": "4f9bad2f-721b-445a-86f9-bc9e16c177ce"
      },
      "outputs": [],
      "source": []
    }
  ],
  "metadata": {
    "kernelspec": {
      "display_name": "Python 3 (ipykernel)",
      "language": "python",
      "name": "python3"
    },
    "language_info": {
      "codemirror_mode": {
        "name": "ipython",
        "version": 3
      },
      "file_extension": ".py",
      "mimetype": "text/x-python",
      "name": "python",
      "nbconvert_exporter": "python",
      "pygments_lexer": "ipython3",
      "version": "3.9.7"
    },
    "colab": {
      "provenance": []
    }
  },
  "nbformat": 4,
  "nbformat_minor": 5
}